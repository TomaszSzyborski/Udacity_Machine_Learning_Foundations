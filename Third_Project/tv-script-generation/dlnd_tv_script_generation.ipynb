{
 "cells": [
  {
   "cell_type": "markdown",
   "metadata": {
    "deletable": true,
    "editable": true
   },
   "source": [
    "# TV Script Generation\n",
    "In this project, you'll generate your own [Simpsons](https://en.wikipedia.org/wiki/The_Simpsons) TV scripts using RNNs.  You'll be using part of the [Simpsons dataset](https://www.kaggle.com/wcukierski/the-simpsons-by-the-data) of scripts from 27 seasons.  The Neural Network you'll build will generate a new TV script for a scene at [Moe's Tavern](https://simpsonswiki.com/wiki/Moe's_Tavern).\n",
    "## Get the Data\n",
    "The data is already provided for you.  You'll be using a subset of the original dataset.  It consists of only the scenes in Moe's Tavern.  This doesn't include other versions of the tavern, like \"Moe's Cavern\", \"Flaming Moe's\", \"Uncle Moe's Family Feed-Bag\", etc.."
   ]
  },
  {
   "cell_type": "code",
   "execution_count": 18,
   "metadata": {
    "collapsed": false,
    "deletable": true,
    "editable": true
   },
   "outputs": [],
   "source": [
    "\"\"\"\n",
    "DON'T MODIFY ANYTHING IN THIS CELL\n",
    "\"\"\"\n",
    "import helper\n",
    "\n",
    "data_dir = './data/simpsons/moes_tavern_lines.txt'\n",
    "text = helper.load_data(data_dir)\n",
    "# Ignore notice, since we don't use it for analysing the data\n",
    "text = text[81:]"
   ]
  },
  {
   "cell_type": "markdown",
   "metadata": {
    "deletable": true,
    "editable": true
   },
   "source": [
    "## Explore the Data\n",
    "Play around with `view_sentence_range` to view different parts of the data."
   ]
  },
  {
   "cell_type": "code",
   "execution_count": 19,
   "metadata": {
    "collapsed": false,
    "deletable": true,
    "editable": true
   },
   "outputs": [
    {
     "name": "stdout",
     "output_type": "stream",
     "text": [
      "Dataset Stats\n",
      "Roughly the number of unique words: 11492\n",
      "Number of scenes: 262\n",
      "Average number of sentences in each scene: 15.248091603053435\n",
      "Number of lines: 4257\n",
      "Average number of words in each line: 11.50434578341555\n",
      "\n",
      "The sentences 50 to 100:\n",
      "Moe_Szyslak: Sorry, Homer.\n",
      "Homer_Simpson: (LOOKING AT WATCH) Ah. Finished with fifteen seconds to spare.\n",
      "Little_Man: (CONCERNED) What's the matter, buddy?\n",
      "Homer_Simpson: The moron next door closed early!\n",
      "Little_Man: (STIFFENING) I happen to be that moron.\n",
      "Homer_Simpson: Oh, me and my trenchant mouth.\n",
      "Homer_Simpson: Please, you've got to open that store.\n",
      "Little_Man: Let me think about it... Eh... No.\n",
      "Homer_Simpson: Okay, okay. But I want you to see a picture of the little girl you're disappointing. (GOES THROUGH HIS WALLET) Well I don't have one.\n",
      "Moe_Szyslak: (TO LITTLE MAN) Come on, Jer. Open up. Be a pal. Remember when I pulled you and your wife out of that burning car?\n",
      "Little_Man: (GRUDGINGLY) Okay. Okay. But now we're even. (TO HOMER) So what does your daughter need?\n",
      "Homer_Simpson: (SMOOTHLY) I'll have you know, I wrote it down.\n",
      "Homer_Simpson: Number Four and a half -- Stupid gum!\n",
      "Homer_Simpson: Number Four and a Half reed! Whoo hoo!\n",
      "Little_Man: Uh-huh. And what instrument does she play?\n",
      "Homer_Simpson: (SUNK) I dunno.\n",
      "\n",
      "\n",
      "Moe_Szyslak: (TO PATRONS) Figure of speech.\n",
      "Moe_Szyslak: Hiya, Homer. (SIGHS)\n",
      "Homer_Simpson: What's the matter, Moe?\n",
      "Moe_Szyslak: Ah, business is slow. People today are healthier and drinking less. You know, if it wasn't for the Junior High school next door no one would even use the cigarette machine.\n",
      "Homer_Simpson: (MOUTH FULL) Yeah, things are tough all over.\n",
      "Moe_Szyslak: Increased job satisfaction and family togetherness are poison for a purveyor of mind-numbing intoxicants like myself.\n",
      "Homer_Simpson: Could I get a beer?\n",
      "Moe_Szyslak: Uh, yeah, sure.\n",
      "Moe_Szyslak: Oh sorry, I forgot we're out of beer.\n",
      "Moe_Szyslak: Yeah, I know, I got behind on my beer payments. The distributor cut me off and I spent my last ten grand on the \"Love Tester\".\n",
      "Moe_Szyslak: You're too late, Homer. Barney sucked it dry. Cut his gums up pretty bad.\n",
      "Moe_Szyslak: Take it easy, Homer. I learned how to make other drinks at Bartender's School.\n",
      "Moe_Szyslak: (UNFAMILIAR) Gin and... tonic? Do they mix?\n",
      "Homer_Simpson: (BRIGHTENING) Hey, I know a good drink. Really hits the spot. I invented it myself...\n",
      "Moe_Szyslak: Sorry, Harv.\n",
      "Moe_Szyslak: Whoa, sounds like one hell of a drink. What do you call it?\n",
      "Homer_Simpson: A \"Flaming Homer\".\n",
      "Moe_Szyslak: Okay, why don't you make us up a couple of \"Flaming Homers\"?\n",
      "Homer_Simpson: Hey Moe, you got any cough syrup?\n",
      "Moe_Szyslak: Uh, let me check the lost and found.\n",
      "Moe_Szyslak: What do we got here, Bowie knife, troll doll, glass eye...\n",
      "Moe_Szyslak: Oh. Here we are.\n",
      "Moe_Szyslak: It's not without its charm.\n",
      "Homer_Simpson: Try lighting it on fire.\n",
      "Moe_Szyslak: (SMILING) Whoa! Homer, it's like there's a party in my mouth and everyone's invited.\n",
      "Larry: Hey, your Love Tester's busted. I want my nickel back. (COUGHS)\n",
      "Moe_Szyslak: Hey, buddy. Have one on the house.\n",
      "Larry: Hey, hey, this drink is delicious! And my phlegm feels looser. What do you call it?\n",
      "Homer_Simpson: Well, it's called a \"Flaming...\n",
      "Moe_Szyslak: Moe! It's called a \"Flaming Moe\"! That's right, a \"Flaming Moe\". My name is Moe, and I invented it. That's why it's called a Flaming Moe. What? What are you lookin' at, Homer? It's a Flaming Moe I'm Moe.\n",
      "Barney_Gumble: Hey, what's this?\n",
      "Moe_Szyslak: A sneeze guard.\n"
     ]
    }
   ],
   "source": [
    "view_sentence_range = (50, 100)\n",
    "\n",
    "\"\"\"\n",
    "DON'T MODIFY ANYTHING IN THIS CELL\n",
    "\"\"\"\n",
    "import numpy as np\n",
    "\n",
    "print('Dataset Stats')\n",
    "print('Roughly the number of unique words: {}'.format(len({word: None for word in text.split()})))\n",
    "scenes = text.split('\\n\\n')\n",
    "print('Number of scenes: {}'.format(len(scenes)))\n",
    "sentence_count_scene = [scene.count('\\n') for scene in scenes]\n",
    "print('Average number of sentences in each scene: {}'.format(np.average(sentence_count_scene)))\n",
    "\n",
    "sentences = [sentence for scene in scenes for sentence in scene.split('\\n')]\n",
    "print('Number of lines: {}'.format(len(sentences)))\n",
    "word_count_sentence = [len(sentence.split()) for sentence in sentences]\n",
    "print('Average number of words in each line: {}'.format(np.average(word_count_sentence)))\n",
    "\n",
    "print()\n",
    "print('The sentences {} to {}:'.format(*view_sentence_range))\n",
    "print('\\n'.join(text.split('\\n')[view_sentence_range[0]:view_sentence_range[1]]))"
   ]
  },
  {
   "cell_type": "markdown",
   "metadata": {
    "deletable": true,
    "editable": true
   },
   "source": [
    "## Implement Preprocessing Functions\n",
    "The first thing to do to any dataset is preprocessing.  Implement the following preprocessing functions below:\n",
    "- Lookup Table\n",
    "- Tokenize Punctuation\n",
    "\n",
    "### Lookup Table\n",
    "To create a word embedding, you first need to transform the words to ids.  In this function, create two dictionaries:\n",
    "- Dictionary to go from the words to an id, we'll call `vocab_to_int`\n",
    "- Dictionary to go from the id to word, we'll call `int_to_vocab`\n",
    "\n",
    "Return these dictionaries in the following tuple `(vocab_to_int, int_to_vocab)`"
   ]
  },
  {
   "cell_type": "code",
   "execution_count": 20,
   "metadata": {
    "collapsed": false,
    "deletable": true,
    "editable": true
   },
   "outputs": [
    {
     "name": "stdout",
     "output_type": "stream",
     "text": [
      "Tests Passed\n"
     ]
    }
   ],
   "source": [
    "import numpy as np\n",
    "import problem_unittests as tests\n",
    "from collections import Counter\n",
    "\n",
    "def create_lookup_tables(text):\n",
    "    \"\"\"\n",
    "    Create lookup tables for vocabulary\n",
    "    :param text: The text of tv scripts split into words\n",
    "    :return: A tuple of dicts (vocab_to_int, int_to_vocab)\n",
    "    \"\"\"\n",
    "    counts = Counter(text)\n",
    "    words = sorted(counts, key=counts.get, reverse=True)\n",
    "    vocab_to_int = {word: integer for integer, word in enumerate(words, start=0)}\n",
    "    int_to_vocab = {integer: word for integer, word in enumerate(words, start=0)}\n",
    "    return (vocab_to_int, int_to_vocab)\n",
    "\n",
    "\n",
    "\"\"\"\n",
    "DON'T MODIFY ANYTHING IN THIS CELL THAT IS BELOW THIS LINE\n",
    "\"\"\"\n",
    "tests.test_create_lookup_tables(create_lookup_tables)"
   ]
  },
  {
   "cell_type": "markdown",
   "metadata": {
    "deletable": true,
    "editable": true
   },
   "source": [
    "### Tokenize Punctuation\n",
    "We'll be splitting the script into a word array using spaces as delimiters.  However, punctuations like periods and exclamation marks make it hard for the neural network to distinguish between the word \"bye\" and \"bye!\".\n",
    "\n",
    "Implement the function `token_lookup` to return a dict that will be used to tokenize symbols like \"!\" into \"||Exclamation_Mark||\".  Create a dictionary for the following symbols where the symbol is the key and value is the token:\n",
    "- Period ( . )\n",
    "- Comma ( , )\n",
    "- Quotation Mark ( \" )\n",
    "- Semicolon ( ; )\n",
    "- Exclamation mark ( ! )\n",
    "- Question mark ( ? )\n",
    "- Left Parentheses ( ( )\n",
    "- Right Parentheses ( ) )\n",
    "- Dash ( -- )\n",
    "- Return ( \\n )\n",
    "\n",
    "This dictionary will be used to token the symbols and add the delimiter (space) around it.  This separates the symbols as it's own word, making it easier for the neural network to predict on the next word. Make sure you don't use a token that could be confused as a word. Instead of using the token \"dash\", try using something like \"||dash||\"."
   ]
  },
  {
   "cell_type": "code",
   "execution_count": 21,
   "metadata": {
    "collapsed": false,
    "deletable": true,
    "editable": true
   },
   "outputs": [
    {
     "name": "stdout",
     "output_type": "stream",
     "text": [
      "Tests Passed\n"
     ]
    }
   ],
   "source": [
    "def token_lookup():\n",
    "    \"\"\"\n",
    "    Generate a dict to turn punctuation into a token.\n",
    "    :return: Tokenize dictionary where the key is the punctuation and the value is the token\n",
    "    \"\"\"\n",
    "    punctuation = {}\n",
    "    punctuation[\".\"]=\"||Period||\"\n",
    "    punctuation[\",\"]=\"||Comma||\"\n",
    "    punctuation[\"\\\"\"]=\"||Quotation_Mark||\"\n",
    "    punctuation[\";\"]=\"||Semicolon||\"\n",
    "    punctuation[\"!\"]=\"||Exclamation_Mark||\"\n",
    "    punctuation[\"?\"]=\"||Question_Mark||\"\n",
    "    punctuation[\"(\"]=\"||Left_Parentheses||\"\n",
    "    punctuation[\")\"]=\"||Right_Parentheses||\"\n",
    "    punctuation[\"--\"]=\"||Dash||\"\n",
    "    punctuation[\"\\n\"]=\"||Return||\"\n",
    "    return punctuation\n",
    "\n",
    "\"\"\"\n",
    "DON'T MODIFY ANYTHING IN THIS CELL THAT IS BELOW THIS LINE\n",
    "\"\"\"\n",
    "tests.test_tokenize(token_lookup)"
   ]
  },
  {
   "cell_type": "markdown",
   "metadata": {
    "deletable": true,
    "editable": true
   },
   "source": [
    "## Preprocess all the data and save it\n",
    "Running the code cell below will preprocess all the data and save it to file."
   ]
  },
  {
   "cell_type": "code",
   "execution_count": 22,
   "metadata": {
    "collapsed": false,
    "deletable": true,
    "editable": true
   },
   "outputs": [],
   "source": [
    "\"\"\"\n",
    "DON'T MODIFY ANYTHING IN THIS CELL\n",
    "\"\"\"\n",
    "# Preprocess Training, Validation, and Testing Data\n",
    "helper.preprocess_and_save_data(data_dir, token_lookup, create_lookup_tables)"
   ]
  },
  {
   "cell_type": "markdown",
   "metadata": {
    "deletable": true,
    "editable": true
   },
   "source": [
    "# Check Point\n",
    "This is your first checkpoint. If you ever decide to come back to this notebook or have to restart the notebook, you can start from here. The preprocessed data has been saved to disk."
   ]
  },
  {
   "cell_type": "code",
   "execution_count": 23,
   "metadata": {
    "collapsed": false,
    "deletable": true,
    "editable": true
   },
   "outputs": [],
   "source": [
    "\"\"\"\n",
    "DON'T MODIFY ANYTHING IN THIS CELL\n",
    "\"\"\"\n",
    "import helper\n",
    "import numpy as np\n",
    "import problem_unittests as tests\n",
    "\n",
    "int_text, vocab_to_int, int_to_vocab, token_dict = helper.load_preprocess()"
   ]
  },
  {
   "cell_type": "markdown",
   "metadata": {
    "deletable": true,
    "editable": true
   },
   "source": [
    "## Build the Neural Network\n",
    "You'll build the components necessary to build a RNN by implementing the following functions below:\n",
    "- get_inputs\n",
    "- get_init_cell\n",
    "- get_embed\n",
    "- build_rnn\n",
    "- build_nn\n",
    "- get_batches\n",
    "\n",
    "### Check the Version of TensorFlow and Access to GPU"
   ]
  },
  {
   "cell_type": "code",
   "execution_count": 24,
   "metadata": {
    "collapsed": false,
    "deletable": true,
    "editable": true
   },
   "outputs": [
    {
     "name": "stdout",
     "output_type": "stream",
     "text": [
      "TensorFlow Version: 1.0.0\n",
      "Default GPU Device: /gpu:0\n"
     ]
    }
   ],
   "source": [
    "\"\"\"\n",
    "DON'T MODIFY ANYTHING IN THIS CELL\n",
    "\"\"\"\n",
    "from distutils.version import LooseVersion\n",
    "import warnings\n",
    "import tensorflow as tf\n",
    "\n",
    "# Check TensorFlow Version\n",
    "assert LooseVersion(tf.__version__) >= LooseVersion('1.0'), 'Please use TensorFlow version 1.0 or newer'\n",
    "print('TensorFlow Version: {}'.format(tf.__version__))\n",
    "\n",
    "# Check for a GPU\n",
    "if not tf.test.gpu_device_name():\n",
    "    warnings.warn('No GPU found. Please use a GPU to train your neural network.')\n",
    "else:\n",
    "    print('Default GPU Device: {}'.format(tf.test.gpu_device_name()))"
   ]
  },
  {
   "cell_type": "markdown",
   "metadata": {
    "deletable": true,
    "editable": true
   },
   "source": [
    "### Input\n",
    "Implement the `get_inputs()` function to create TF Placeholders for the Neural Network.  It should create the following placeholders:\n",
    "- Input text placeholder named \"input\" using the [TF Placeholder](https://www.tensorflow.org/api_docs/python/tf/placeholder) `name` parameter.\n",
    "- Targets placeholder\n",
    "- Learning Rate placeholder\n",
    "\n",
    "Return the placeholders in the following the tuple `(Input, Targets, LearingRate)`"
   ]
  },
  {
   "cell_type": "code",
   "execution_count": 25,
   "metadata": {
    "collapsed": false,
    "deletable": true,
    "editable": true
   },
   "outputs": [
    {
     "name": "stdout",
     "output_type": "stream",
     "text": [
      "Tests Passed\n"
     ]
    }
   ],
   "source": [
    "import tensorflow as tf\n",
    "\n",
    "def get_inputs():\n",
    "    \"\"\"\n",
    "    Create TF Placeholders for input, targets, and learning rate.\n",
    "    :return: Tuple (input, targets, learning rate)\n",
    "    \"\"\"\n",
    "    inputs = tf.placeholder(dtype=tf.int32, shape=(None, None), name=\"input\")\n",
    "    targets = tf.placeholder(dtype=tf.int32, shape=(None, None), name=\"targets\")\n",
    "    learning_rate = tf.placeholder(dtype=tf.float32, shape=None, name=\"learning_rate\")\n",
    "    return (inputs, targets, learning_rate)\n",
    "\n",
    "\n",
    "\"\"\"\n",
    "DON'T MODIFY ANYTHING IN THIS CELL THAT IS BELOW THIS LINE\n",
    "\"\"\"\n",
    "tests.test_get_inputs(get_inputs)"
   ]
  },
  {
   "cell_type": "markdown",
   "metadata": {
    "deletable": true,
    "editable": true
   },
   "source": [
    "### Build RNN Cell and Initialize\n",
    "Stack one or more [`BasicLSTMCells`](https://www.tensorflow.org/api_docs/python/tf/contrib/rnn/BasicLSTMCell) in a [`MultiRNNCell`](https://www.tensorflow.org/api_docs/python/tf/contrib/rnn/MultiRNNCell).\n",
    "- The Rnn size should be set using `rnn_size`\n",
    "- Initalize Cell State using the MultiRNNCell's [`zero_state()`](https://www.tensorflow.org/api_docs/python/tf/contrib/rnn/MultiRNNCell#zero_state) function\n",
    "    - Apply the name \"initial_state\" to the initial state using [`tf.identity()`](https://www.tensorflow.org/api_docs/python/tf/identity)\n",
    "\n",
    "Return the cell and initial state in the following tuple `(Cell, InitialState)`"
   ]
  },
  {
   "cell_type": "code",
   "execution_count": 26,
   "metadata": {
    "collapsed": false,
    "deletable": true,
    "editable": true
   },
   "outputs": [
    {
     "name": "stdout",
     "output_type": "stream",
     "text": [
      "Tests Passed\n"
     ]
    }
   ],
   "source": [
    "def get_init_cell(batch_size, rnn_size):\n",
    "    \"\"\"\n",
    "    Create an RNN Cell and initialize it.\n",
    "    :param batch_size: Size of batches\n",
    "    :param rnn_size: Size of RNNs\n",
    "    :return: Tuple (cell, initialize state)\n",
    "    \"\"\"\n",
    "    lstm = tf.contrib.rnn.BasicLSTMCell(rnn_size)\n",
    "    #Stacking LSTM cells\n",
    "#   lstm_1 = tf.contrib.rnn.BasicLSTMCell(rnn_size)\n",
    "#   lstm_2 = tf.contrib.rnn.BasicLSTMCell(rnn_size)\n",
    "    cell = tf.contrib.rnn.MultiRNNCell([lstm])# * rnn_size)\n",
    "    initial_state = cell.zero_state(batch_size=batch_size, dtype=tf.float32)\n",
    "    initial_state = tf.identity(initial_state, name=\"initial_state\")\n",
    "    return (cell, initial_state)\n",
    "\n",
    "\n",
    "\"\"\"\n",
    "DON'T MODIFY ANYTHING IN THIS CELL THAT IS BELOW THIS LINE\n",
    "\"\"\"\n",
    "tests.test_get_init_cell(get_init_cell)"
   ]
  },
  {
   "cell_type": "markdown",
   "metadata": {
    "deletable": true,
    "editable": true
   },
   "source": [
    "### Word Embedding\n",
    "Apply embedding to `input_data` using TensorFlow.  Return the embedded sequence."
   ]
  },
  {
   "cell_type": "code",
   "execution_count": 27,
   "metadata": {
    "collapsed": false,
    "deletable": true,
    "editable": true
   },
   "outputs": [
    {
     "name": "stdout",
     "output_type": "stream",
     "text": [
      "Tests Passed\n"
     ]
    }
   ],
   "source": [
    "def get_embed(input_data, vocab_size, embed_dim):\n",
    "    \"\"\"\n",
    "    Create embedding for <input_data>.\n",
    "    :param input_data: TF placeholder for text input.\n",
    "    :param vocab_size: Number of words in vocabulary.\n",
    "    :param embed_dim: Number of embedding dimensions\n",
    "    :return: Embedded input.\n",
    "    \"\"\"\n",
    "    embedding = tf.Variable(tf.random_uniform((vocab_size, embed_dim), -1, 1))\n",
    "#         embeddings = tf.Variable(tf.random_normal([vocab_size, embed_dim], stddev=0.1), name='embeddings')\n",
    "    embedded_input = tf.nn.embedding_lookup(embedding, input_data)\n",
    "    return embedded_input\n",
    "\n",
    "\n",
    "\"\"\"\n",
    "DON'T MODIFY ANYTHING IN THIS CELL THAT IS BELOW THIS LINE\n",
    "\"\"\"\n",
    "tests.test_get_embed(get_embed)"
   ]
  },
  {
   "cell_type": "markdown",
   "metadata": {
    "deletable": true,
    "editable": true
   },
   "source": [
    "### Build RNN\n",
    "You created a RNN Cell in the `get_init_cell()` function.  Time to use the cell to create a RNN.\n",
    "- Build the RNN using the [`tf.nn.dynamic_rnn()`](https://www.tensorflow.org/api_docs/python/tf/nn/dynamic_rnn)\n",
    " - Apply the name \"final_state\" to the final state using [`tf.identity()`](https://www.tensorflow.org/api_docs/python/tf/identity)\n",
    "\n",
    "Return the outputs and final_state state in the following tuple `(Outputs, FinalState)` "
   ]
  },
  {
   "cell_type": "code",
   "execution_count": 28,
   "metadata": {
    "collapsed": false,
    "deletable": true,
    "editable": true
   },
   "outputs": [
    {
     "name": "stdout",
     "output_type": "stream",
     "text": [
      "Tests Passed\n"
     ]
    }
   ],
   "source": [
    "def build_rnn(cell, inputs):\n",
    "    \"\"\"\n",
    "    Create a RNN using a RNN Cell\n",
    "    :param cell: RNN Cell\n",
    "    :param inputs: Input text data\n",
    "    :return: Tuple (Outputs, Final State)\n",
    "    \"\"\"\n",
    "    #outputs, final_state = tf.nn.dynamic_rnn(cell, inputs, initial_state=cell.zero_state(inputs.get_shape()[0], tf.float32))    \n",
    "    outputs, final_state = tf.nn.dynamic_rnn(cell, inputs, dtype=tf.float32)\n",
    "    final_state = tf.identity(final_state, name=\"final_state\")\n",
    "    return outputs, final_state\n",
    "\n",
    "\n",
    "\"\"\"\n",
    "DON'T MODIFY ANYTHING IN THIS CELL THAT IS BELOW THIS LINE\n",
    "\"\"\"\n",
    "tests.test_build_rnn(build_rnn)"
   ]
  },
  {
   "cell_type": "markdown",
   "metadata": {
    "deletable": true,
    "editable": true
   },
   "source": [
    "### Build the Neural Network\n",
    "Apply the functions you implemented above to:\n",
    "- Apply embedding to `input_data` using your `get_embed(input_data, vocab_size, embed_dim)` function.\n",
    "- Build RNN using `cell` and your `build_rnn(cell, inputs)` function.\n",
    "- Apply a fully connected layer with a linear activation and `vocab_size` as the number of outputs.\n",
    "\n",
    "Return the logits and final state in the following tuple (Logits, FinalState) "
   ]
  },
  {
   "cell_type": "code",
   "execution_count": 35,
   "metadata": {
    "collapsed": false,
    "deletable": true,
    "editable": true
   },
   "outputs": [
    {
     "name": "stdout",
     "output_type": "stream",
     "text": [
      "Tests Passed\n"
     ]
    }
   ],
   "source": [
    "def build_nn(cell, rnn_size, input_data, vocab_size):\n",
    "    \"\"\"\n",
    "    Build part of the neural network\n",
    "    :param cell: RNN cell\n",
    "    :param rnn_size: Size of rnns\n",
    "    :param input_data: Input data\n",
    "    :param vocab_size: Vocabulary size\n",
    "    :return: Tuple (Logits, FinalState)\n",
    "    \"\"\"\n",
    "    embedded = get_embed(input_data, vocab_size, rnn_size)\n",
    "    outputs, final_state = build_rnn(cell, embedded)\n",
    "    logits = tf.contrib.layers.fully_connected(outputs, \n",
    "                                               vocab_size, \n",
    "                                               activation_fn = None,\n",
    "                                               weights_initializer = tf.truncated_normal_initializer(stddev=0.1),\n",
    "                                               )\n",
    "    return logits, final_state\n",
    "#     embed = get_embed(input_data, vocab_size, rnn_size)\n",
    "#     outputs, final_state = build_rnn(cell, embed)\n",
    "#     logits = tf.contrib.layers.fully_connected(outputs, \n",
    "#                                                vocab_size,\n",
    "#                                                activation_fn=None,\n",
    "#                                                weights_initializer=tf.contrib.layers.xavier_initializer(uniform=False))\n",
    "#     return (logits, final_state)\n",
    "\n",
    "\"\"\"\n",
    "DON'T MODIFY ANYTHING IN THIS CELL THAT IS BELOW THIS LINE\n",
    "\"\"\"\n",
    "tests.test_build_nn(build_nn)"
   ]
  },
  {
   "cell_type": "markdown",
   "metadata": {
    "deletable": true,
    "editable": true
   },
   "source": [
    "### Batches\n",
    "Implement `get_batches` to create batches of input and targets using `int_text`.  The batches should be a Numpy array with the shape `(number of batches, 2, batch size, sequence length)`. Each batch contains two elements:\n",
    "- The first element is a single batch of **input** with the shape `[batch size, sequence length]`\n",
    "- The second element is a single batch of **targets** with the shape `[batch size, sequence length]`\n",
    "\n",
    "If you can't fill the last batch with enough data, drop the last batch.\n",
    "\n",
    "For exmple, `get_batches([1, 2, 3, 4, 5, 6, 7, 8, 9, 10, 11, 12, 13, 14, 15], 2, 3)` would return a Numpy array of the following:\n",
    "```\n",
    "[\n",
    "  # First Batch\n",
    "  [\n",
    "    # Batch of Input\n",
    "    [[ 1  2  3], [ 7  8  9]],\n",
    "    # Batch of targets\n",
    "    [[ 2  3  4], [ 8  9 10]]\n",
    "  ],\n",
    " \n",
    "  # Second Batch\n",
    "  [\n",
    "    # Batch of Input\n",
    "    [[ 4  5  6], [10 11 12]],\n",
    "    # Batch of targets\n",
    "    [[ 5  6  7], [11 12 13]]\n",
    "  ]\n",
    "]\n",
    "```"
   ]
  },
  {
   "cell_type": "code",
   "execution_count": 36,
   "metadata": {
    "collapsed": false,
    "deletable": true,
    "editable": true
   },
   "outputs": [
    {
     "name": "stdout",
     "output_type": "stream",
     "text": [
      "Tests Passed\n"
     ]
    }
   ],
   "source": [
    "def get_batches(int_text, batch_size, seq_length):\n",
    "    \"\"\"\n",
    "    Return batches of input and target\n",
    "    :param int_text: Text with the words replaced by their ids\n",
    "    :param batch_size: The size of batch\n",
    "    :param seq_length: The length of sequence\n",
    "    :return: Batches as a Numpy array\n",
    "    \"\"\"\n",
    "    n_batches = len(int_text) // (batch_size * seq_length)\n",
    "\n",
    "    x_data = np.array(int_text[: n_batches * batch_size * seq_length])\n",
    "    y_data = np.array(int_text[1: n_batches * batch_size * seq_length + 1])\n",
    "\n",
    "    x_batches = np.split(x_data.reshape(batch_size, -1), n_batches, 1)\n",
    "    y_batches = np.split(y_data.reshape(batch_size, -1), n_batches, 1)\n",
    "\n",
    "    #For Debug Purposes\n",
    "    #print(np.array(list(zip(x_batches, y_batches))))\n",
    "        \n",
    "    return np.array(list(zip(x_batches, y_batches)))\n",
    "\n",
    "\n",
    "\"\"\"\n",
    "DON'T MODIFY ANYTHING IN THIS CELL THAT IS BELOW THIS LINE\n",
    "\"\"\"\n",
    "tests.test_get_batches(get_batches)"
   ]
  },
  {
   "cell_type": "markdown",
   "metadata": {
    "deletable": true,
    "editable": true
   },
   "source": [
    "## Neural Network Training\n",
    "### Hyperparameters\n",
    "Tune the following parameters:\n",
    "\n",
    "- Set `num_epochs` to the number of epochs.\n",
    "- Set `batch_size` to the batch size.\n",
    "- Set `rnn_size` to the size of the RNNs.\n",
    "- Set `seq_length` to the length of sequence.\n",
    "- Set `learning_rate` to the learning rate.\n",
    "- Set `show_every_n_batches` to the number of batches the neural network should print progress."
   ]
  },
  {
   "cell_type": "code",
   "execution_count": 37,
   "metadata": {
    "collapsed": true,
    "deletable": true,
    "editable": true
   },
   "outputs": [],
   "source": [
    "# Number of Epochs\n",
    "num_epochs = 100\n",
    "# Batch Size\n",
    "batch_size = 64\n",
    "# RNN Size\n",
    "rnn_size = 512\n",
    "# Sequence Length\n",
    "seq_length = 12\n",
    "# Learning Rate\n",
    "learning_rate = 0.01\n",
    "# Show stats for every n number of batches\n",
    "show_every_n_batches = 32\n",
    "\n",
    "\"\"\"\n",
    "DON'T MODIFY ANYTHING IN THIS CELL THAT IS BELOW THIS LINE\n",
    "\"\"\"\n",
    "save_dir = './save'"
   ]
  },
  {
   "cell_type": "markdown",
   "metadata": {
    "deletable": true,
    "editable": true
   },
   "source": [
    "### Build the Graph\n",
    "Build the graph using the neural network you implemented."
   ]
  },
  {
   "cell_type": "code",
   "execution_count": 38,
   "metadata": {
    "collapsed": false,
    "deletable": true,
    "editable": true
   },
   "outputs": [],
   "source": [
    "\"\"\"\n",
    "DON'T MODIFY ANYTHING IN THIS CELL\n",
    "\"\"\"\n",
    "from tensorflow.contrib import seq2seq\n",
    "\n",
    "train_graph = tf.Graph()\n",
    "with train_graph.as_default():\n",
    "    vocab_size = len(int_to_vocab)\n",
    "    input_text, targets, lr = get_inputs()\n",
    "    input_data_shape = tf.shape(input_text)\n",
    "    cell, initial_state = get_init_cell(input_data_shape[0], rnn_size)\n",
    "    logits, final_state = build_nn(cell, rnn_size, input_text, vocab_size)\n",
    "\n",
    "    # Probabilities for generating words\n",
    "    probs = tf.nn.softmax(logits, name='probs')\n",
    "\n",
    "    # Loss function\n",
    "    cost = seq2seq.sequence_loss(\n",
    "        logits,\n",
    "        targets,\n",
    "        tf.ones([input_data_shape[0], input_data_shape[1]]))\n",
    "\n",
    "    # Optimizer\n",
    "    optimizer = tf.train.AdamOptimizer(lr)\n",
    "\n",
    "    # Gradient Clipping\n",
    "    gradients = optimizer.compute_gradients(cost)\n",
    "    capped_gradients = [(tf.clip_by_value(grad, -1., 1.), var) for grad, var in gradients]\n",
    "    train_op = optimizer.apply_gradients(capped_gradients)"
   ]
  },
  {
   "cell_type": "markdown",
   "metadata": {
    "deletable": true,
    "editable": true
   },
   "source": [
    "## Train\n",
    "Train the neural network on the preprocessed data.  If you have a hard time getting a good loss, check the [forms](https://discussions.udacity.com/) to see if anyone is having the same problem."
   ]
  },
  {
   "cell_type": "code",
   "execution_count": 39,
   "metadata": {
    "collapsed": false,
    "deletable": true,
    "editable": true
   },
   "outputs": [
    {
     "name": "stdout",
     "output_type": "stream",
     "text": [
      "Epoch   0 Batch    0/89   train_loss = 8.820\n",
      "Epoch   0 Batch   32/89   train_loss = 5.383\n",
      "Epoch   0 Batch   64/89   train_loss = 5.044\n",
      "Epoch   1 Batch    7/89   train_loss = 4.617\n",
      "Epoch   1 Batch   39/89   train_loss = 3.930\n",
      "Epoch   1 Batch   71/89   train_loss = 3.775\n",
      "Epoch   2 Batch   14/89   train_loss = 3.401\n",
      "Epoch   2 Batch   46/89   train_loss = 3.202\n",
      "Epoch   2 Batch   78/89   train_loss = 3.022\n",
      "Epoch   3 Batch   21/89   train_loss = 2.875\n",
      "Epoch   3 Batch   53/89   train_loss = 2.507\n",
      "Epoch   3 Batch   85/89   train_loss = 2.458\n",
      "Epoch   4 Batch   28/89   train_loss = 2.426\n",
      "Epoch   4 Batch   60/89   train_loss = 2.133\n",
      "Epoch   5 Batch    3/89   train_loss = 1.983\n",
      "Epoch   5 Batch   35/89   train_loss = 1.865\n",
      "Epoch   5 Batch   67/89   train_loss = 1.680\n",
      "Epoch   6 Batch   10/89   train_loss = 1.493\n",
      "Epoch   6 Batch   42/89   train_loss = 1.550\n",
      "Epoch   6 Batch   74/89   train_loss = 1.324\n",
      "Epoch   7 Batch   17/89   train_loss = 1.215\n",
      "Epoch   7 Batch   49/89   train_loss = 1.224\n",
      "Epoch   7 Batch   81/89   train_loss = 1.100\n",
      "Epoch   8 Batch   24/89   train_loss = 1.018\n",
      "Epoch   8 Batch   56/89   train_loss = 1.001\n",
      "Epoch   8 Batch   88/89   train_loss = 0.866\n",
      "Epoch   9 Batch   31/89   train_loss = 0.747\n",
      "Epoch   9 Batch   63/89   train_loss = 0.833\n",
      "Epoch  10 Batch    6/89   train_loss = 0.805\n",
      "Epoch  10 Batch   38/89   train_loss = 0.769\n",
      "Epoch  10 Batch   70/89   train_loss = 0.638\n",
      "Epoch  11 Batch   13/89   train_loss = 0.718\n",
      "Epoch  11 Batch   45/89   train_loss = 0.597\n",
      "Epoch  11 Batch   77/89   train_loss = 0.681\n",
      "Epoch  12 Batch   20/89   train_loss = 0.675\n",
      "Epoch  12 Batch   52/89   train_loss = 0.608\n",
      "Epoch  12 Batch   84/89   train_loss = 0.660\n",
      "Epoch  13 Batch   27/89   train_loss = 0.633\n",
      "Epoch  13 Batch   59/89   train_loss = 0.561\n",
      "Epoch  14 Batch    2/89   train_loss = 0.490\n",
      "Epoch  14 Batch   34/89   train_loss = 0.582\n",
      "Epoch  14 Batch   66/89   train_loss = 0.536\n",
      "Epoch  15 Batch    9/89   train_loss = 0.555\n",
      "Epoch  15 Batch   41/89   train_loss = 0.617\n",
      "Epoch  15 Batch   73/89   train_loss = 0.554\n",
      "Epoch  16 Batch   16/89   train_loss = 0.591\n",
      "Epoch  16 Batch   48/89   train_loss = 0.563\n",
      "Epoch  16 Batch   80/89   train_loss = 0.597\n",
      "Epoch  17 Batch   23/89   train_loss = 0.777\n",
      "Epoch  17 Batch   55/89   train_loss = 0.923\n",
      "Epoch  17 Batch   87/89   train_loss = 1.311\n",
      "Epoch  18 Batch   30/89   train_loss = 1.717\n",
      "Epoch  18 Batch   62/89   train_loss = 1.953\n",
      "Epoch  19 Batch    5/89   train_loss = 1.925\n",
      "Epoch  19 Batch   37/89   train_loss = 1.934\n",
      "Epoch  19 Batch   69/89   train_loss = 1.626\n",
      "Epoch  20 Batch   12/89   train_loss = 1.550\n",
      "Epoch  20 Batch   44/89   train_loss = 1.374\n",
      "Epoch  20 Batch   76/89   train_loss = 1.170\n",
      "Epoch  21 Batch   19/89   train_loss = 0.979\n",
      "Epoch  21 Batch   51/89   train_loss = 0.924\n",
      "Epoch  21 Batch   83/89   train_loss = 0.807\n",
      "Epoch  22 Batch   26/89   train_loss = 0.734\n",
      "Epoch  22 Batch   58/89   train_loss = 0.763\n",
      "Epoch  23 Batch    1/89   train_loss = 0.591\n",
      "Epoch  23 Batch   33/89   train_loss = 0.586\n",
      "Epoch  23 Batch   65/89   train_loss = 0.536\n",
      "Epoch  24 Batch    8/89   train_loss = 0.546\n",
      "Epoch  24 Batch   40/89   train_loss = 0.512\n",
      "Epoch  24 Batch   72/89   train_loss = 0.500\n",
      "Epoch  25 Batch   15/89   train_loss = 0.496\n",
      "Epoch  25 Batch   47/89   train_loss = 0.425\n",
      "Epoch  25 Batch   79/89   train_loss = 0.381\n",
      "Epoch  26 Batch   22/89   train_loss = 0.393\n",
      "Epoch  26 Batch   54/89   train_loss = 0.463\n",
      "Epoch  26 Batch   86/89   train_loss = 0.401\n",
      "Epoch  27 Batch   29/89   train_loss = 0.343\n",
      "Epoch  27 Batch   61/89   train_loss = 0.346\n",
      "Epoch  28 Batch    4/89   train_loss = 0.376\n",
      "Epoch  28 Batch   36/89   train_loss = 0.392\n",
      "Epoch  28 Batch   68/89   train_loss = 0.402\n",
      "Epoch  29 Batch   11/89   train_loss = 0.367\n",
      "Epoch  29 Batch   43/89   train_loss = 0.349\n",
      "Epoch  29 Batch   75/89   train_loss = 0.363\n",
      "Epoch  30 Batch   18/89   train_loss = 0.337\n",
      "Epoch  30 Batch   50/89   train_loss = 0.366\n",
      "Epoch  30 Batch   82/89   train_loss = 0.357\n",
      "Epoch  31 Batch   25/89   train_loss = 0.340\n",
      "Epoch  31 Batch   57/89   train_loss = 0.365\n",
      "Epoch  32 Batch    0/89   train_loss = 0.358\n",
      "Epoch  32 Batch   32/89   train_loss = 0.391\n",
      "Epoch  32 Batch   64/89   train_loss = 0.395\n",
      "Epoch  33 Batch    7/89   train_loss = 0.374\n",
      "Epoch  33 Batch   39/89   train_loss = 0.326\n",
      "Epoch  33 Batch   71/89   train_loss = 0.391\n",
      "Epoch  34 Batch   14/89   train_loss = 0.362\n",
      "Epoch  34 Batch   46/89   train_loss = 0.386\n",
      "Epoch  34 Batch   78/89   train_loss = 0.338\n",
      "Epoch  35 Batch   21/89   train_loss = 0.389\n",
      "Epoch  35 Batch   53/89   train_loss = 0.368\n",
      "Epoch  35 Batch   85/89   train_loss = 0.413\n",
      "Epoch  36 Batch   28/89   train_loss = 0.319\n",
      "Epoch  36 Batch   60/89   train_loss = 0.384\n",
      "Epoch  37 Batch    3/89   train_loss = 0.318\n",
      "Epoch  37 Batch   35/89   train_loss = 0.383\n",
      "Epoch  37 Batch   67/89   train_loss = 0.388\n",
      "Epoch  38 Batch   10/89   train_loss = 0.373\n",
      "Epoch  38 Batch   42/89   train_loss = 0.342\n",
      "Epoch  38 Batch   74/89   train_loss = 0.327\n",
      "Epoch  39 Batch   17/89   train_loss = 0.333\n",
      "Epoch  39 Batch   49/89   train_loss = 0.369\n",
      "Epoch  39 Batch   81/89   train_loss = 0.396\n",
      "Epoch  40 Batch   24/89   train_loss = 0.393\n",
      "Epoch  40 Batch   56/89   train_loss = 0.361\n",
      "Epoch  40 Batch   88/89   train_loss = 0.335\n",
      "Epoch  41 Batch   31/89   train_loss = 0.321\n",
      "Epoch  41 Batch   63/89   train_loss = 0.362\n",
      "Epoch  42 Batch    6/89   train_loss = 0.376\n",
      "Epoch  42 Batch   38/89   train_loss = 0.334\n",
      "Epoch  42 Batch   70/89   train_loss = 0.345\n",
      "Epoch  43 Batch   13/89   train_loss = 0.393\n",
      "Epoch  43 Batch   45/89   train_loss = 0.332\n",
      "Epoch  43 Batch   77/89   train_loss = 0.372\n",
      "Epoch  44 Batch   20/89   train_loss = 0.405\n",
      "Epoch  44 Batch   52/89   train_loss = 0.350\n",
      "Epoch  44 Batch   84/89   train_loss = 0.392\n",
      "Epoch  45 Batch   27/89   train_loss = 0.391\n",
      "Epoch  45 Batch   59/89   train_loss = 0.389\n",
      "Epoch  46 Batch    2/89   train_loss = 0.325\n",
      "Epoch  46 Batch   34/89   train_loss = 0.403\n",
      "Epoch  46 Batch   66/89   train_loss = 0.371\n",
      "Epoch  47 Batch    9/89   train_loss = 0.391\n",
      "Epoch  47 Batch   41/89   train_loss = 0.407\n",
      "Epoch  47 Batch   73/89   train_loss = 0.393\n",
      "Epoch  48 Batch   16/89   train_loss = 0.380\n",
      "Epoch  48 Batch   48/89   train_loss = 0.353\n",
      "Epoch  48 Batch   80/89   train_loss = 0.350\n",
      "Epoch  49 Batch   23/89   train_loss = 0.355\n",
      "Epoch  49 Batch   55/89   train_loss = 0.385\n",
      "Epoch  49 Batch   87/89   train_loss = 0.321\n",
      "Epoch  50 Batch   30/89   train_loss = 0.358\n",
      "Epoch  50 Batch   62/89   train_loss = 0.392\n",
      "Epoch  51 Batch    5/89   train_loss = 0.385\n",
      "Epoch  51 Batch   37/89   train_loss = 0.373\n",
      "Epoch  51 Batch   69/89   train_loss = 0.376\n",
      "Epoch  52 Batch   12/89   train_loss = 0.398\n",
      "Epoch  52 Batch   44/89   train_loss = 0.364\n",
      "Epoch  52 Batch   76/89   train_loss = 0.345\n",
      "Epoch  53 Batch   19/89   train_loss = 0.363\n",
      "Epoch  53 Batch   51/89   train_loss = 0.367\n",
      "Epoch  53 Batch   83/89   train_loss = 0.361\n",
      "Epoch  54 Batch   26/89   train_loss = 0.473\n",
      "Epoch  54 Batch   58/89   train_loss = 1.487\n",
      "Epoch  55 Batch    1/89   train_loss = 3.232\n",
      "Epoch  55 Batch   33/89   train_loss = 4.419\n",
      "Epoch  55 Batch   65/89   train_loss = 3.943\n",
      "Epoch  56 Batch    8/89   train_loss = 3.076\n",
      "Epoch  56 Batch   40/89   train_loss = 2.682\n",
      "Epoch  56 Batch   72/89   train_loss = 2.319\n",
      "Epoch  57 Batch   15/89   train_loss = 2.051\n",
      "Epoch  57 Batch   47/89   train_loss = 1.753\n",
      "Epoch  57 Batch   79/89   train_loss = 1.402\n",
      "Epoch  58 Batch   22/89   train_loss = 1.403\n",
      "Epoch  58 Batch   54/89   train_loss = 1.322\n",
      "Epoch  58 Batch   86/89   train_loss = 1.238\n",
      "Epoch  59 Batch   29/89   train_loss = 1.043\n",
      "Epoch  59 Batch   61/89   train_loss = 0.951\n",
      "Epoch  60 Batch    4/89   train_loss = 0.946\n",
      "Epoch  60 Batch   36/89   train_loss = 0.872\n",
      "Epoch  60 Batch   68/89   train_loss = 0.859\n",
      "Epoch  61 Batch   11/89   train_loss = 0.714\n",
      "Epoch  61 Batch   43/89   train_loss = 0.671\n",
      "Epoch  61 Batch   75/89   train_loss = 0.718\n",
      "Epoch  62 Batch   18/89   train_loss = 0.600\n",
      "Epoch  62 Batch   50/89   train_loss = 0.587\n",
      "Epoch  62 Batch   82/89   train_loss = 0.554\n",
      "Epoch  63 Batch   25/89   train_loss = 0.524\n",
      "Epoch  63 Batch   57/89   train_loss = 0.510\n",
      "Epoch  64 Batch    0/89   train_loss = 0.531\n",
      "Epoch  64 Batch   32/89   train_loss = 0.546\n",
      "Epoch  64 Batch   64/89   train_loss = 0.545\n",
      "Epoch  65 Batch    7/89   train_loss = 0.475\n",
      "Epoch  65 Batch   39/89   train_loss = 0.456\n",
      "Epoch  65 Batch   71/89   train_loss = 0.521\n",
      "Epoch  66 Batch   14/89   train_loss = 0.488\n",
      "Epoch  66 Batch   46/89   train_loss = 0.505\n",
      "Epoch  66 Batch   78/89   train_loss = 0.446\n",
      "Epoch  67 Batch   21/89   train_loss = 0.506\n",
      "Epoch  67 Batch   53/89   train_loss = 0.443\n",
      "Epoch  67 Batch   85/89   train_loss = 0.495\n",
      "Epoch  68 Batch   28/89   train_loss = 0.408\n",
      "Epoch  68 Batch   60/89   train_loss = 0.451\n",
      "Epoch  69 Batch    3/89   train_loss = 0.394\n",
      "Epoch  69 Batch   35/89   train_loss = 0.445\n",
      "Epoch  69 Batch   67/89   train_loss = 0.443\n",
      "Epoch  70 Batch   10/89   train_loss = 0.438\n",
      "Epoch  70 Batch   42/89   train_loss = 0.406\n",
      "Epoch  70 Batch   74/89   train_loss = 0.384\n",
      "Epoch  71 Batch   17/89   train_loss = 0.404\n",
      "Epoch  71 Batch   49/89   train_loss = 0.411\n",
      "Epoch  71 Batch   81/89   train_loss = 0.445\n",
      "Epoch  72 Batch   24/89   train_loss = 0.433\n",
      "Epoch  72 Batch   56/89   train_loss = 0.403\n",
      "Epoch  72 Batch   88/89   train_loss = 0.373\n",
      "Epoch  73 Batch   31/89   train_loss = 0.355\n",
      "Epoch  73 Batch   63/89   train_loss = 0.395\n",
      "Epoch  74 Batch    6/89   train_loss = 0.412\n",
      "Epoch  74 Batch   38/89   train_loss = 0.386\n",
      "Epoch  74 Batch   70/89   train_loss = 0.375\n",
      "Epoch  75 Batch   13/89   train_loss = 0.433\n",
      "Epoch  75 Batch   45/89   train_loss = 0.359\n",
      "Epoch  75 Batch   77/89   train_loss = 0.406\n",
      "Epoch  76 Batch   20/89   train_loss = 0.454\n",
      "Epoch  76 Batch   52/89   train_loss = 0.387\n",
      "Epoch  76 Batch   84/89   train_loss = 0.441\n",
      "Epoch  77 Batch   27/89   train_loss = 0.421\n",
      "Epoch  77 Batch   59/89   train_loss = 0.418\n",
      "Epoch  78 Batch    2/89   train_loss = 0.368\n",
      "Epoch  78 Batch   34/89   train_loss = 0.418\n",
      "Epoch  78 Batch   66/89   train_loss = 0.396\n",
      "Epoch  79 Batch    9/89   train_loss = 0.426\n",
      "Epoch  79 Batch   41/89   train_loss = 0.441\n",
      "Epoch  79 Batch   73/89   train_loss = 0.417\n",
      "Epoch  80 Batch   16/89   train_loss = 0.404\n",
      "Epoch  80 Batch   48/89   train_loss = 0.360\n",
      "Epoch  80 Batch   80/89   train_loss = 0.380\n",
      "Epoch  81 Batch   23/89   train_loss = 0.396\n",
      "Epoch  81 Batch   55/89   train_loss = 0.399\n",
      "Epoch  81 Batch   87/89   train_loss = 0.332\n",
      "Epoch  82 Batch   30/89   train_loss = 0.398\n",
      "Epoch  82 Batch   62/89   train_loss = 0.422\n",
      "Epoch  83 Batch    5/89   train_loss = 0.414\n",
      "Epoch  83 Batch   37/89   train_loss = 0.384\n",
      "Epoch  83 Batch   69/89   train_loss = 0.405\n",
      "Epoch  84 Batch   12/89   train_loss = 0.433\n",
      "Epoch  84 Batch   44/89   train_loss = 0.456\n",
      "Epoch  84 Batch   76/89   train_loss = 0.535\n",
      "Epoch  85 Batch   19/89   train_loss = 1.035\n",
      "Epoch  85 Batch   51/89   train_loss = 1.963\n",
      "Epoch  85 Batch   83/89   train_loss = 2.808\n",
      "Epoch  86 Batch   26/89   train_loss = 2.947\n",
      "Epoch  86 Batch   58/89   train_loss = 2.925\n",
      "Epoch  87 Batch    1/89   train_loss = 2.563\n",
      "Epoch  87 Batch   33/89   train_loss = 2.475\n",
      "Epoch  87 Batch   65/89   train_loss = 1.910\n",
      "Epoch  88 Batch    8/89   train_loss = 1.747\n",
      "Epoch  88 Batch   40/89   train_loss = 1.640\n",
      "Epoch  88 Batch   72/89   train_loss = 1.472\n",
      "Epoch  89 Batch   15/89   train_loss = 1.318\n",
      "Epoch  89 Batch   47/89   train_loss = 1.148\n",
      "Epoch  89 Batch   79/89   train_loss = 0.974\n",
      "Epoch  90 Batch   22/89   train_loss = 0.931\n",
      "Epoch  90 Batch   54/89   train_loss = 0.968\n",
      "Epoch  90 Batch   86/89   train_loss = 0.920\n",
      "Epoch  91 Batch   29/89   train_loss = 0.756\n",
      "Epoch  91 Batch   61/89   train_loss = 0.711\n",
      "Epoch  92 Batch    4/89   train_loss = 0.679\n",
      "Epoch  92 Batch   36/89   train_loss = 0.648\n",
      "Epoch  92 Batch   68/89   train_loss = 0.706\n",
      "Epoch  93 Batch   11/89   train_loss = 0.574\n",
      "Epoch  93 Batch   43/89   train_loss = 0.586\n",
      "Epoch  93 Batch   75/89   train_loss = 0.617\n",
      "Epoch  94 Batch   18/89   train_loss = 0.497\n",
      "Epoch  94 Batch   50/89   train_loss = 0.511\n",
      "Epoch  94 Batch   82/89   train_loss = 0.481\n",
      "Epoch  95 Batch   25/89   train_loss = 0.454\n",
      "Epoch  95 Batch   57/89   train_loss = 0.475\n",
      "Epoch  96 Batch    0/89   train_loss = 0.474\n",
      "Epoch  96 Batch   32/89   train_loss = 0.511\n",
      "Epoch  96 Batch   64/89   train_loss = 0.534\n",
      "Epoch  97 Batch    7/89   train_loss = 0.460\n",
      "Epoch  97 Batch   39/89   train_loss = 0.434\n",
      "Epoch  97 Batch   71/89   train_loss = 0.504\n",
      "Epoch  98 Batch   14/89   train_loss = 0.476\n",
      "Epoch  98 Batch   46/89   train_loss = 0.477\n",
      "Epoch  98 Batch   78/89   train_loss = 0.414\n",
      "Epoch  99 Batch   21/89   train_loss = 0.482\n",
      "Epoch  99 Batch   53/89   train_loss = 0.418\n",
      "Epoch  99 Batch   85/89   train_loss = 0.483\n",
      "Model Trained and Saved\n"
     ]
    }
   ],
   "source": [
    "\"\"\"\n",
    "DON'T MODIFY ANYTHING IN THIS CELL\n",
    "\"\"\"\n",
    "batches = get_batches(int_text, batch_size, seq_length)\n",
    "\n",
    "with tf.Session(graph=train_graph) as sess:\n",
    "    sess.run(tf.global_variables_initializer())\n",
    "\n",
    "    for epoch_i in range(num_epochs):\n",
    "        state = sess.run(initial_state, {input_text: batches[0][0]})\n",
    "\n",
    "        for batch_i, (x, y) in enumerate(batches):\n",
    "            feed = {\n",
    "                input_text: x,\n",
    "                targets: y,\n",
    "                initial_state: state,\n",
    "                lr: learning_rate}\n",
    "            train_loss, state, _ = sess.run([cost, final_state, train_op], feed)\n",
    "\n",
    "            # Show every <show_every_n_batches> batches\n",
    "            if (epoch_i * len(batches) + batch_i) % show_every_n_batches == 0:\n",
    "                print('Epoch {:>3} Batch {:>4}/{}   train_loss = {:.3f}'.format(\n",
    "                    epoch_i,\n",
    "                    batch_i,\n",
    "                    len(batches),\n",
    "                    train_loss))\n",
    "\n",
    "    # Save Model\n",
    "    saver = tf.train.Saver()\n",
    "    saver.save(sess, save_dir)\n",
    "    print('Model Trained and Saved')"
   ]
  },
  {
   "cell_type": "markdown",
   "metadata": {
    "deletable": true,
    "editable": true
   },
   "source": [
    "## Save Parameters\n",
    "Save `seq_length` and `save_dir` for generating a new TV script."
   ]
  },
  {
   "cell_type": "code",
   "execution_count": 40,
   "metadata": {
    "collapsed": false,
    "deletable": true,
    "editable": true
   },
   "outputs": [],
   "source": [
    "\"\"\"\n",
    "DON'T MODIFY ANYTHING IN THIS CELL\n",
    "\"\"\"\n",
    "# Save parameters for checkpoint\n",
    "helper.save_params((seq_length, save_dir))"
   ]
  },
  {
   "cell_type": "markdown",
   "metadata": {
    "deletable": true,
    "editable": true
   },
   "source": [
    "# Checkpoint"
   ]
  },
  {
   "cell_type": "code",
   "execution_count": 41,
   "metadata": {
    "collapsed": false,
    "deletable": true,
    "editable": true
   },
   "outputs": [],
   "source": [
    "\"\"\"\n",
    "DON'T MODIFY ANYTHING IN THIS CELL\n",
    "\"\"\"\n",
    "import tensorflow as tf\n",
    "import numpy as np\n",
    "import helper\n",
    "import problem_unittests as tests\n",
    "\n",
    "_, vocab_to_int, int_to_vocab, token_dict = helper.load_preprocess()\n",
    "seq_length, load_dir = helper.load_params()"
   ]
  },
  {
   "cell_type": "markdown",
   "metadata": {
    "deletable": true,
    "editable": true
   },
   "source": [
    "## Implement Generate Functions\n",
    "### Get Tensors\n",
    "Get tensors from `loaded_graph` using the function [`get_tensor_by_name()`](https://www.tensorflow.org/api_docs/python/tf/Graph#get_tensor_by_name).  Get the tensors using the following names:\n",
    "- \"input:0\"\n",
    "- \"initial_state:0\"\n",
    "- \"final_state:0\"\n",
    "- \"probs:0\"\n",
    "\n",
    "Return the tensors in the following tuple `(InputTensor, InitialStateTensor, FinalStateTensor, ProbsTensor)` "
   ]
  },
  {
   "cell_type": "code",
   "execution_count": 42,
   "metadata": {
    "collapsed": false,
    "deletable": true,
    "editable": true
   },
   "outputs": [
    {
     "name": "stdout",
     "output_type": "stream",
     "text": [
      "Tests Passed\n"
     ]
    }
   ],
   "source": [
    "def get_tensors(loaded_graph):\n",
    "    \"\"\"\n",
    "    Get input, initial state, final state, and probabilities tensor from <loaded_graph>\n",
    "    :param loaded_graph: TensorFlow graph loaded from file\n",
    "    :return: Tuple (InputTensor, InitialStateTensor, FinalStateTensor, ProbsTensor)\n",
    "    \"\"\"\n",
    "    input_tensor = loaded_graph.get_tensor_by_name(\"input:0\")\n",
    "    initial_state_tensor = loaded_graph.get_tensor_by_name(\"initial_state:0\")\n",
    "    final_state_tensor = loaded_graph.get_tensor_by_name(\"final_state:0\")\n",
    "    probs_tensor = loaded_graph.get_tensor_by_name(\"probs:0\")\n",
    "    return (input_tensor,\n",
    "           initial_state_tensor,\n",
    "           final_state_tensor,\n",
    "           probs_tensor)\n",
    "\n",
    "\n",
    "\"\"\"\n",
    "DON'T MODIFY ANYTHING IN THIS CELL THAT IS BELOW THIS LINE\n",
    "\"\"\"\n",
    "tests.test_get_tensors(get_tensors)"
   ]
  },
  {
   "cell_type": "markdown",
   "metadata": {
    "deletable": true,
    "editable": true
   },
   "source": [
    "### Choose Word\n",
    "Implement the `pick_word()` function to select the next word using `probabilities`."
   ]
  },
  {
   "cell_type": "code",
   "execution_count": 47,
   "metadata": {
    "collapsed": false,
    "deletable": true,
    "editable": true
   },
   "outputs": [
    {
     "name": "stdout",
     "output_type": "stream",
     "text": [
      "Tests Passed\n"
     ]
    }
   ],
   "source": [
    "import numpy as np\n",
    "def pick_word(probabilities, int_to_vocab):\n",
    "    \"\"\"\n",
    "    Pick the next word in the generated text\n",
    "    :param probabilities: Probabilites of the next word\n",
    "    :param int_to_vocab: Dictionary of word ids as the keys and words as the values\n",
    "    :return: String of the predicted word\n",
    "    \"\"\"\n",
    "    return np.random.choice(list(int_to_vocab.values()), p=probabilities)\n",
    "\n",
    "\"\"\"\n",
    "DON'T MODIFY ANYTHING IN THIS CELL THAT IS BELOW THIS LINE\n",
    "\"\"\"\n",
    "tests.test_pick_word(pick_word)"
   ]
  },
  {
   "cell_type": "markdown",
   "metadata": {
    "deletable": true,
    "editable": true
   },
   "source": [
    "## Generate TV Script\n",
    "This will generate the TV script for you.  Set `gen_length` to the length of TV script you want to generate."
   ]
  },
  {
   "cell_type": "code",
   "execution_count": 48,
   "metadata": {
    "collapsed": false,
    "deletable": true,
    "editable": true
   },
   "outputs": [
    {
     "name": "stdout",
     "output_type": "stream",
     "text": [
      "moe_szyslak: ooh, sorry. ah, lemme buy ya a drink.(to moe) huh... marge?\n",
      "homer_simpson: huh? oh, i was just? uh, but i wanna talk you mean, like, you. not with you and that funny.\n",
      "kemi: i read. the phone, you won't be mad at something.\n",
      "moe_szyslak: wait a minute. how you could have a little here? in a flaming moe, you can really think of is, moe.\n",
      "barney_gumble: wow, you should love! he floated up toward heaven / but got i'm still so enough of.\n",
      "moe_szyslak: no, he's here.\n",
      "\n",
      "\n",
      "moe_szyslak: hey, hey, hey, we all got it!\n",
      "homer_simpson: gentlemen! i've got an old happen?\n",
      "larry: you are right, roz told old man to you.\n",
      "carl_carlson: to smithers! homer, why don't we! / uh...\n",
      "moe_szyslak: few people know that verdict was overturned in on, this place your last night. now you gotta be\n"
     ]
    }
   ],
   "source": [
    "gen_length = 200\n",
    "# homer_simpson, moe_szyslak, or Barney_Gumble\n",
    "prime_word = 'moe_szyslak'\n",
    "\n",
    "\"\"\"\n",
    "DON'T MODIFY ANYTHING IN THIS CELL THAT IS BELOW THIS LINE\n",
    "\"\"\"\n",
    "loaded_graph = tf.Graph()\n",
    "with tf.Session(graph=loaded_graph) as sess:\n",
    "    # Load saved model\n",
    "    loader = tf.train.import_meta_graph(load_dir + '.meta')\n",
    "    loader.restore(sess, load_dir)\n",
    "\n",
    "    # Get Tensors from loaded model\n",
    "    input_text, initial_state, final_state, probs = get_tensors(loaded_graph)\n",
    "\n",
    "    # Sentences generation setup\n",
    "    gen_sentences = [prime_word + ':']\n",
    "    prev_state = sess.run(initial_state, {input_text: np.array([[1]])})\n",
    "\n",
    "    # Generate sentences\n",
    "    for n in range(gen_length):\n",
    "        # Dynamic Input\n",
    "        dyn_input = [[vocab_to_int[word] for word in gen_sentences[-seq_length:]]]\n",
    "        dyn_seq_length = len(dyn_input[0])\n",
    "\n",
    "        # Get Prediction\n",
    "        probabilities, prev_state = sess.run(\n",
    "            [probs, final_state],\n",
    "            {input_text: dyn_input, initial_state: prev_state})\n",
    "        \n",
    "        pred_word = pick_word(probabilities[dyn_seq_length-1], int_to_vocab)\n",
    "\n",
    "        gen_sentences.append(pred_word)\n",
    "    \n",
    "    # Remove tokens\n",
    "    tv_script = ' '.join(gen_sentences)\n",
    "    for key, token in token_dict.items():\n",
    "        ending = ' ' if key in ['\\n', '(', '\"'] else ''\n",
    "        tv_script = tv_script.replace(' ' + token.lower(), key)\n",
    "    tv_script = tv_script.replace('\\n ', '\\n')\n",
    "    tv_script = tv_script.replace('( ', '(')\n",
    "        \n",
    "    print(tv_script)"
   ]
  },
  {
   "cell_type": "markdown",
   "metadata": {
    "deletable": true,
    "editable": true
   },
   "source": [
    "# The TV Script is Nonsensical\n",
    "It's ok if the TV script doesn't make any sense.  We trained on less than a megabyte of text.  In order to get good results, you'll have to use a smaller vocabulary or get more data.  Luckly there's more data!  As we mentioned in the begging of this project, this is a subset of [another dataset](https://www.kaggle.com/wcukierski/the-simpsons-by-the-data).  We didn't have you train on all the data, because that would take too long.  However, you are free to train your neural network on all the data.  After you complete the project, of course.\n",
    "# Submitting This Project\n",
    "When submitting this project, make sure to run all the cells before saving the notebook. Save the notebook file as \"dlnd_tv_script_generation.ipynb\" and save it as a HTML file under \"File\" -> \"Download as\". Include the \"helper.py\" and \"problem_unittests.py\" files in your submission."
   ]
  }
 ],
 "metadata": {
  "anaconda-cloud": {},
  "kernelspec": {
   "display_name": "Python 3",
   "language": "python",
   "name": "python3"
  },
  "language_info": {
   "codemirror_mode": {
    "name": "ipython",
    "version": 3
   },
   "file_extension": ".py",
   "mimetype": "text/x-python",
   "name": "python",
   "nbconvert_exporter": "python",
   "pygments_lexer": "ipython3",
   "version": "3.5.3"
  }
 },
 "nbformat": 4,
 "nbformat_minor": 0
}
