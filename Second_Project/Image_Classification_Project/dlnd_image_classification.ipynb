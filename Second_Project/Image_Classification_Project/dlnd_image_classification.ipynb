{
 "cells": [
  {
   "cell_type": "markdown",
   "metadata": {
    "collapsed": true
   },
   "source": [
    "# Image Classification\n",
    "In this project, you'll classify images from the [CIFAR-10 dataset](https://www.cs.toronto.edu/~kriz/cifar.html).  The dataset consists of airplanes, dogs, cats, and other objects. You'll preprocess the images, then train a convolutional neural network on all the samples. The images need to be normalized and the labels need to be one-hot encoded.  You'll get to apply what you learned and build a convolutional, max pooling, dropout, and fully connected layers.  At the end, you'll get to see your neural network's predictions on the sample images.\n",
    "## Get the Data\n",
    "Run the following cell to download the [CIFAR-10 dataset for python](https://www.cs.toronto.edu/~kriz/cifar-10-python.tar.gz)."
   ]
  },
  {
   "cell_type": "code",
   "execution_count": 80,
   "metadata": {
    "collapsed": false
   },
   "outputs": [
    {
     "name": "stdout",
     "output_type": "stream",
     "text": [
      "All files found!\n"
     ]
    }
   ],
   "source": [
    "\"\"\"\n",
    "DON'T MODIFY ANYTHING IN THIS CELL THAT IS BELOW THIS LINE\n",
    "\"\"\"\n",
    "from urllib.request import urlretrieve\n",
    "from os.path import isfile, isdir\n",
    "from tqdm import tqdm\n",
    "import problem_unittests as tests\n",
    "import tarfile\n",
    "\n",
    "cifar10_dataset_folder_path = 'cifar-10-batches-py'\n",
    "\n",
    "class DLProgress(tqdm):\n",
    "    last_block = 0\n",
    "\n",
    "    def hook(self, block_num=1, block_size=1, total_size=None):\n",
    "        self.total = total_size\n",
    "        self.update((block_num - self.last_block) * block_size)\n",
    "        self.last_block = block_num\n",
    "\n",
    "if not isfile('cifar-10-python.tar.gz'):\n",
    "    with DLProgress(unit='B', unit_scale=True, miniters=1, desc='CIFAR-10 Dataset') as pbar:\n",
    "        urlretrieve(\n",
    "            'https://www.cs.toronto.edu/~kriz/cifar-10-python.tar.gz',\n",
    "            'cifar-10-python.tar.gz',\n",
    "            pbar.hook)\n",
    "\n",
    "if not isdir(cifar10_dataset_folder_path):\n",
    "    with tarfile.open('cifar-10-python.tar.gz') as tar:\n",
    "        tar.extractall()\n",
    "        tar.close()\n",
    "\n",
    "\n",
    "tests.test_folder_path(cifar10_dataset_folder_path)"
   ]
  },
  {
   "cell_type": "markdown",
   "metadata": {},
   "source": [
    "## Explore the Data\n",
    "The dataset is broken into batches to prevent your machine from running out of memory.  The CIFAR-10 dataset consists of 5 batches, named `data_batch_1`, `data_batch_2`, etc.. Each batch contains the labels and images that are one of the following:\n",
    "* airplane\n",
    "* automobile\n",
    "* bird\n",
    "* cat\n",
    "* deer\n",
    "* dog\n",
    "* frog\n",
    "* horse\n",
    "* ship\n",
    "* truck\n",
    "\n",
    "Understanding a dataset is part of making predictions on the data.  Play around with the code cell below by changing the `batch_id` and `sample_id`. The `batch_id` is the id for a batch (1-5). The `sample_id` is the id for a image and label pair in the batch.\n",
    "\n",
    "Ask yourself \"What are all possible labels?\", \"What is the range of values for the image data?\", \"Are the labels in order or random?\".  Answers to questions like these will help you preprocess the data and end up with better predictions."
   ]
  },
  {
   "cell_type": "code",
   "execution_count": 81,
   "metadata": {
    "collapsed": false
   },
   "outputs": [
    {
     "name": "stdout",
     "output_type": "stream",
     "text": [
      "\n",
      "Stats of batch 3:\n",
      "Samples: 10000\n",
      "Label Counts: {0: 994, 1: 1042, 2: 965, 3: 997, 4: 990, 5: 1029, 6: 978, 7: 1015, 8: 961, 9: 1029}\n",
      "First 20 Labels: [8, 5, 0, 6, 9, 2, 8, 3, 6, 2, 7, 4, 6, 9, 0, 0, 7, 3, 7, 2]\n",
      "\n",
      "Example of Image 16:\n",
      "Image - Min Value: 6 Max Value: 255\n",
      "Image - Shape: (32, 32, 3)\n",
      "Label - Label Id: 7 Name: horse\n"
     ]
    },
    {
     "data": {
      "image/png": "[encoded data removed]",
      "text/plain": [
       "<matplotlib.figure.Figure at 0x11669dcf8>"
      ]
     },
     "metadata": {
      "image/png": {
       "height": 250,
       "width": 253
      }
     },
     "output_type": "display_data"
    }
   ],
   "source": [
    "%matplotlib inline\n",
    "%config InlineBackend.figure_format = 'retina'\n",
    "\n",
    "import helper\n",
    "import numpy as np\n",
    "\n",
    "# Explore the dataset\n",
    "batch_id = 3\n",
    "sample_id = 16\n",
    "helper.display_stats(cifar10_dataset_folder_path, batch_id, sample_id)"
   ]
  },
  {
   "cell_type": "markdown",
   "metadata": {},
   "source": [
    "## Implement Preprocess Functions\n",
    "### Normalize\n",
    "In the cell below, implement the `normalize` function to take in image data, `x`, and return it as a normalized Numpy array. The values should be in the range of 0 to 1, inclusive.  The return object should be the same shape as `x`."
   ]
  },
  {
   "cell_type": "code",
   "execution_count": 82,
   "metadata": {
    "collapsed": false
   },
   "outputs": [
    {
     "name": "stdout",
     "output_type": "stream",
     "text": [
      "Tests Passed\n"
     ]
    }
   ],
   "source": [
    "def normalize(x):\n",
    "    \"\"\"\n",
    "    Normalize a list of sample image data in the range of 0 to 1\n",
    "    : x: List of image data.  The image shape is (32, 32, 3)\n",
    "    : return: Numpy array of normalize data\n",
    "    \"\"\"\n",
    "    maximum = np.max(x)\n",
    "    minimum = np.min(x)\n",
    "    return (x - minimum) / (maximum - minimum)\n",
    "\n",
    "\n",
    "\"\"\"\n",
    "DON'T MODIFY ANYTHING IN THIS CELL THAT IS BELOW THIS LINE\n",
    "\"\"\"\n",
    "tests.test_normalize(normalize)"
   ]
  },
  {
   "cell_type": "markdown",
   "metadata": {},
   "source": [
    "### One-hot encode\n",
    "Just like the previous code cell, you'll be implementing a function for preprocessing.  This time, you'll implement the `one_hot_encode` function. The input, `x`, are a list of labels.  Implement the function to return the list of labels as One-Hot encoded Numpy array.  The possible values for labels are 0 to 9. The one-hot encoding function should return the same encoding for each value between each call to `one_hot_encode`.  Make sure to save the map of encodings outside the function.\n",
    "\n",
    "Hint: Don't reinvent the wheel."
   ]
  },
  {
   "cell_type": "code",
   "execution_count": 83,
   "metadata": {
    "collapsed": false
   },
   "outputs": [
    {
     "name": "stdout",
     "output_type": "stream",
     "text": [
      "Tests Passed\n"
     ]
    }
   ],
   "source": [
    "from sklearn import preprocessing\n",
    "\n",
    "def one_hot_encode(x):\n",
    "    \"\"\"\n",
    "    One hot encode a list of sample labels. Return a one-hot encoded vector for each label.\n",
    "    : x: List of sample Labels\n",
    "    : return: Numpy array of one-hot encoded labels\n",
    "    \"\"\"\n",
    "    x = np.array(x)\n",
    "    label_binarizer = preprocessing.LabelBinarizer()\n",
    "    label_binarizer.fit(np.array([i for i in range(10)]))\n",
    "    return label_binarizer.transform(x)\n",
    "\n",
    "\n",
    "\n",
    "\"\"\"\n",
    "DON'T MODIFY ANYTHING IN THIS CELL THAT IS BELOW THIS LINE\n",
    "\"\"\"\n",
    "tests.test_one_hot_encode(one_hot_encode)"
   ]
  },
  {
   "cell_type": "markdown",
   "metadata": {},
   "source": [
    "### Randomize Data\n",
    "As you saw from exploring the data above, the order of the samples are randomized.  It doesn't hurt to randomize it again, but you don't need to for this dataset."
   ]
  },
  {
   "cell_type": "markdown",
   "metadata": {},
   "source": [
    "## Preprocess all the data and save it\n",
    "Running the code cell below will preprocess all the CIFAR-10 data and save it to file. The code below also uses 10% of the training data for validation."
   ]
  },
  {
   "cell_type": "code",
   "execution_count": 84,
   "metadata": {
    "collapsed": false
   },
   "outputs": [],
   "source": [
    "\"\"\"\n",
    "DON'T MODIFY ANYTHING IN THIS CELL\n",
    "\"\"\"\n",
    "# Preprocess Training, Validation, and Testing Data\n",
    "helper.preprocess_and_save_data(cifar10_dataset_folder_path, normalize, one_hot_encode)"
   ]
  },
  {
   "cell_type": "markdown",
   "metadata": {},
   "source": [
    "# Check Point\n",
    "This is your first checkpoint.  If you ever decide to come back to this notebook or have to restart the notebook, you can start from here.  The preprocessed data has been saved to disk."
   ]
  },
  {
   "cell_type": "code",
   "execution_count": 85,
   "metadata": {
    "collapsed": true
   },
   "outputs": [],
   "source": [
    "\"\"\"\n",
    "DON'T MODIFY ANYTHING IN THIS CELL\n",
    "\"\"\"\n",
    "import pickle\n",
    "import problem_unittests as tests\n",
    "import helper\n",
    "\n",
    "# Load the Preprocessed Validation data\n",
    "valid_features, valid_labels = pickle.load(open('preprocess_validation.p', mode='rb'))"
   ]
  },
  {
   "cell_type": "markdown",
   "metadata": {},
   "source": [
    "## Build the network\n",
    "For the neural network, you'll build each layer into a function.  Most of the code you've seen has been outside of functions. To test your code more thoroughly, we require that you put each layer in a function.  This allows us to give you better feedback and test for simple mistakes using our unittests before you submit your project.\n",
    "\n",
    "If you're finding it hard to dedicate enough time for this course a week, we've provided a small shortcut to this part of the project. In the next couple of problems, you'll have the option to use [TensorFlow Layers](https://www.tensorflow.org/api_docs/python/tf/layers) or [TensorFlow Layers (contrib)](https://www.tensorflow.org/api_guides/python/contrib.layers) to build each layer, except \"Convolutional & Max Pooling\" layer.  TF Layers is similar to Keras's and TFLearn's abstraction to layers, so it's easy to pickup.\n",
    "\n",
    "If you would like to get the most of this course, try to solve all the problems without TF Layers.  Let's begin!\n",
    "### Input\n",
    "The neural network needs to read the image data, one-hot encoded labels, and dropout keep probability. Implement the following functions\n",
    "* Implement `neural_net_image_input`\n",
    " * Return a [TF Placeholder](https://www.tensorflow.org/api_docs/python/tf/placeholder)\n",
    " * Set the shape using `image_shape` with batch size set to `None`.\n",
    " * Name the TensorFlow placeholder \"x\" using the TensorFlow `name` parameter in the [TF Placeholder](https://www.tensorflow.org/api_docs/python/tf/placeholder).\n",
    "* Implement `neural_net_label_input`\n",
    " * Return a [TF Placeholder](https://www.tensorflow.org/api_docs/python/tf/placeholder)\n",
    " * Set the shape using `n_classes` with batch size set to `None`.\n",
    " * Name the TensorFlow placeholder \"y\" using the TensorFlow `name` parameter in the [TF Placeholder](https://www.tensorflow.org/api_docs/python/tf/placeholder).\n",
    "* Implement `neural_net_keep_prob_input`\n",
    " * Return a [TF Placeholder](https://www.tensorflow.org/api_docs/python/tf/placeholder) for dropout keep probability.\n",
    " * Name the TensorFlow placeholder \"keep_prob\" using the TensorFlow `name` parameter in the [TF Placeholder](https://www.tensorflow.org/api_docs/python/tf/placeholder).\n",
    "\n",
    "These names will be used at the end of the project to load your saved model.\n",
    "\n",
    "Note: `None` for shapes in TensorFlow allow for a dynamic size."
   ]
  },
  {
   "cell_type": "code",
   "execution_count": 86,
   "metadata": {
    "collapsed": false
   },
   "outputs": [
    {
     "name": "stdout",
     "output_type": "stream",
     "text": [
      "Image Input Tests Passed.\n",
      "Label Input Tests Passed.\n",
      "Keep Prob Tests Passed.\n"
     ]
    }
   ],
   "source": [
    "import tensorflow as tf\n",
    "\n",
    "def neural_net_image_input(image_shape):\n",
    "    \"\"\"\n",
    "    Return a Tensor for a bach of image input\n",
    "    : image_shape: Shape of the images\n",
    "    : return: Tensor for image input.\n",
    "    \"\"\"\n",
    "    return tf.placeholder(dtype=tf.float32, shape=[None, *image_shape], name=\"x\")\n",
    "#     return tf.placeholder(dtype=tf.float32, shape=[None, image_shape[0], image_shape[1], 3], name=\"x\")\n",
    "\n",
    "\n",
    "\n",
    "def neural_net_label_input(n_classes):\n",
    "    \"\"\"\n",
    "    Return a Tensor for a batch of label input\n",
    "    : n_classes: Number of classes\n",
    "    : return: Tensor for label input.\n",
    "    \"\"\"\n",
    "    return tf.placeholder(dtype=tf.float32, shape=[None, n_classes], name=\"y\")\n",
    "\n",
    "\n",
    "\n",
    "def neural_net_keep_prob_input():\n",
    "    \"\"\"\n",
    "    Return a Tensor for keep probability\n",
    "    : return: Tensor for keep probability.\n",
    "    \"\"\"\n",
    "    return tf.placeholder(dtype=tf.float32, name=\"keep_prob\")\n",
    "\n",
    "\n",
    "\"\"\"\n",
    "DON'T MODIFY ANYTHING IN THIS CELL THAT IS BELOW THIS LINE\n",
    "\"\"\"\n",
    "tf.reset_default_graph()\n",
    "tests.test_nn_image_inputs(neural_net_image_input)\n",
    "tests.test_nn_label_inputs(neural_net_label_input)\n",
    "tests.test_nn_keep_prob_inputs(neural_net_keep_prob_input)"
   ]
  },
  {
   "cell_type": "markdown",
   "metadata": {},
   "source": [
    "### Convolution and Max Pooling Layer\n",
    "Convolution layers have a lot of success with images. For this code cell, you should implement the function `conv2d_maxpool` to apply convolution then max pooling:\n",
    "* Create the weight and bias using `conv_ksize`, `conv_num_outputs` and the shape of `x_tensor`.\n",
    "* Apply a convolution to `x_tensor` using weight and `conv_strides`.\n",
    " * We recommend you use same padding, but you're welcome to use any padding.\n",
    "* Add bias\n",
    "* Add a nonlinear activation to the convolution.\n",
    "* Apply Max Pooling using `pool_ksize` and `pool_strides`.\n",
    " * We recommend you use same padding, but you're welcome to use any padding.\n",
    "\n",
    "Note: You **can't** use [TensorFlow Layers](https://www.tensorflow.org/api_docs/python/tf/layers) or [TensorFlow Layers (contrib)](https://www.tensorflow.org/api_guides/python/contrib.layers) for this layer.  You're free to use any TensorFlow package for all the other layers."
   ]
  },
  {
   "cell_type": "code",
   "execution_count": 87,
   "metadata": {
    "collapsed": false
   },
   "outputs": [
    {
     "name": "stdout",
     "output_type": "stream",
     "text": [
      "Tests Passed\n"
     ]
    }
   ],
   "source": [
    "def conv2d_maxpool(x_tensor, conv_num_outputs, conv_ksize, conv_strides, pool_ksize, pool_strides):\n",
    "    \"\"\"\n",
    "    Apply convolution then max pooling to x_tensor\n",
    "    :param x_tensor: TensorFlow Tensor\n",
    "    :param conv_num_outputs: Number of outputs for the convolutional layer\n",
    "    :param conv_strides: Stride 2-D Tuple for convolution\n",
    "    :param pool_ksize: kernal size 2-D Tuple for pool\n",
    "    :param pool_strides: Stride 2-D Tuple for pool\n",
    "    : return: A tensor that represents convolution and max pooling of x_tensor\n",
    "    \"\"\"\n",
    "    input_depth = x_tensor.get_shape().as_list()[-1]\n",
    "                              \n",
    "    weights = tf.Variable(\n",
    "        tf.random_normal(\n",
    "            shape = [conv_ksize[0],\n",
    "                     conv_ksize[1],\n",
    "                     input_depth,\n",
    "                     conv_num_outputs],\n",
    "            stddev=0.1))\n",
    "    \n",
    "    bias = tf.Variable(tf.zeros(conv_num_outputs))\n",
    "\n",
    "    conv = tf.nn.conv2d(x_tensor,\n",
    "                               weights,\n",
    "                               strides=[1, conv_strides[0], conv_strides[1], 1],\n",
    "                               padding='SAME') + bias\n",
    "\n",
    "#     added_bias = tf.nn.bias_add(conv,\n",
    "#                                 bias=bias)\n",
    "\n",
    "#     conv = tf.nn.relu(added_bias)\n",
    "    \n",
    "    final_layer = tf.nn.max_pool(conv,\n",
    "                                 ksize=[1, pool_ksize[0], pool_ksize[1], 1],\n",
    "                                 strides=[1, pool_strides[0], pool_strides[1], 1],\n",
    "                                 padding='SAME')\n",
    "\n",
    "    return final_layer\n",
    "\n",
    "\n",
    "\n",
    "\"\"\"\n",
    "DON'T MODIFY ANYTHING IN THIS CELL THAT IS BELOW THIS LINE\n",
    "\"\"\"\n",
    "tests.test_con_pool(conv2d_maxpool)"
   ]
  },
  {
   "cell_type": "markdown",
   "metadata": {},
   "source": [
    "### Flatten Layer\n",
    "Implement the `flatten` function to change the dimension of `x_tensor` from a 4-D tensor to a 2-D tensor.  The output should be the shape (*Batch Size*, *Flattened Image Size*). You can use [TensorFlow Layers](https://www.tensorflow.org/api_docs/python/tf/layers) or [TensorFlow Layers (contrib)](https://www.tensorflow.org/api_guides/python/contrib.layers) for this layer."
   ]
  },
  {
   "cell_type": "code",
   "execution_count": 88,
   "metadata": {
    "collapsed": false
   },
   "outputs": [
    {
     "name": "stdout",
     "output_type": "stream",
     "text": [
      "Tests Passed\n"
     ]
    }
   ],
   "source": [
    "def flatten(x_tensor):\n",
    "    \"\"\"\n",
    "    Flatten x_tensor to (Batch Size, Flattened Image Size)\n",
    "    : x_tensor: A tensor of size (Batch Size, ...), where ... are the image dimensions.\n",
    "    : return: A tensor of size (Batch Size, Flattened Image Size).\n",
    "    \"\"\"\n",
    "#     shape = x_tensor.get_shape().as_list()\n",
    "#     return tf.reshape(x_tensor, [-1, np.prod(shape[1:])])\n",
    "    return tf.contrib.layers.flatten(x_tensor)\n",
    "\n",
    "\"\"\"\n",
    "DON'T MODIFY ANYTHING IN THIS CELL THAT IS BELOW THIS LINE\n",
    "\"\"\"\n",
    "tests.test_flatten(flatten)"
   ]
  },
  {
   "cell_type": "markdown",
   "metadata": {},
   "source": [
    "### Fully-Connected Layer\n",
    "Implement the `fully_conn` function to apply a fully connected layer to `x_tensor` with the shape (*Batch Size*, *num_outputs*). You can use [TensorFlow Layers](https://www.tensorflow.org/api_docs/python/tf/layers) or [TensorFlow Layers (contrib)](https://www.tensorflow.org/api_guides/python/contrib.layers) for this layer."
   ]
  },
  {
   "cell_type": "code",
   "execution_count": 89,
   "metadata": {
    "collapsed": false
   },
   "outputs": [
    {
     "name": "stdout",
     "output_type": "stream",
     "text": [
      "Tests Passed\n"
     ]
    }
   ],
   "source": [
    "def fully_conn(x_tensor, num_outputs):\n",
    "    \"\"\"\n",
    "    Apply a fully connected layer to x_tensor using weight and bias\n",
    "    : x_tensor: A 2-D tensor where the first dimension is batch size.\n",
    "    : num_outputs: The number of output that the new tensor should be.\n",
    "    : return: A 2-D tensor where the second dimension is num_outputs.\n",
    "    \"\"\"\n",
    "#     shape = x_tensor.get_shape().as_list()\n",
    "#     W = tf.Variable(tf.random_normal([shape[-1], num_outputs], stddev=0.1))\n",
    "#     b = tf.Variable(tf.zeros(num_outputs)) + 0.11\n",
    "#     return tf.nn.relu(tf.add(tf.matmul(x_tensor, W), b))\n",
    "    \n",
    "    return tf.contrib.layers.fully_connected(x_tensor,num_outputs=num_outputs)\n",
    "\n",
    "\"\"\"\n",
    "DON'T MODIFY ANYTHING IN THIS CELL THAT IS BELOW THIS LINE\n",
    "\"\"\"\n",
    "tests.test_fully_conn(fully_conn)"
   ]
  },
  {
   "cell_type": "markdown",
   "metadata": {},
   "source": [
    "### Output Layer\n",
    "Implement the `output` function to apply a fully connected layer to `x_tensor` with the shape (*Batch Size*, *num_outputs*). You can use [TensorFlow Layers](https://www.tensorflow.org/api_docs/python/tf/layers) or [TensorFlow Layers (contrib)](https://www.tensorflow.org/api_guides/python/contrib.layers) for this layer.\n",
    "\n",
    "Note: Activation, softmax, or cross entropy shouldn't be applied to this."
   ]
  },
  {
   "cell_type": "code",
   "execution_count": 93,
   "metadata": {
    "collapsed": false
   },
   "outputs": [
    {
     "name": "stdout",
     "output_type": "stream",
     "text": [
      "Tests Passed\n"
     ]
    }
   ],
   "source": [
    "def output(x_tensor, num_outputs):\n",
    "    \"\"\"\n",
    "    Apply a output layer to x_tensor using weight and bias\n",
    "    : x_tensor: A 2-D tensor where the first dimension is batch size.\n",
    "    : num_outputs: The number of output that the new tensor should be.\n",
    "    : return: A 2-D tensor where the second dimension is num_outputs.\n",
    "    \"\"\"\n",
    "#     shape = x_tensor.get_shape().as_list()\n",
    "#     W = tf.Variable(tf.random_normal([shape[-1], num_outputs]))\n",
    "#     b = tf.Variable(tf.zeros(num_outputs))\n",
    "#     return tf.add(tf.matmul(x_tensor, W), b)\n",
    "\n",
    "    return tf.layers.dense(x_tensor, num_outputs)\n",
    "\"\"\"\n",
    "DON'T MODIFY ANYTHING IN THIS CELL THAT IS BELOW THIS LINE\n",
    "\"\"\"\n",
    "tests.test_output(output)"
   ]
  },
  {
   "cell_type": "markdown",
   "metadata": {},
   "source": [
    "### Create Convolutional Model\n",
    "Implement the function `conv_net` to create a convolutional neural network model. The function takes in a batch of images, `x`, and outputs logits.  Use the layers you created above to create this model:\n",
    "\n",
    "* Apply 1, 2, or 3 Convolution and Max Pool layers\n",
    "* Apply a Flatten Layer\n",
    "* Apply 1, 2, or 3 Fully Connected Layers\n",
    "* Apply an Output Layer\n",
    "* Return the output\n",
    "* Apply [TensorFlow's Dropout](https://www.tensorflow.org/api_docs/python/tf/nn/dropout) to one or more layers in the model using `keep_prob`. "
   ]
  },
  {
   "cell_type": "code",
   "execution_count": 94,
   "metadata": {
    "collapsed": false
   },
   "outputs": [
    {
     "name": "stdout",
     "output_type": "stream",
     "text": [
      "Neural Network Built!\n"
     ]
    }
   ],
   "source": [
    "def conv_net(x, keep_prob):\n",
    "    \"\"\"\n",
    "    Create a convolutional neural network model\n",
    "    : x: Placeholder tensor that holds image data.\n",
    "    : keep_prob: Placeholder tensor that hold dropout keep probability.\n",
    "    : return: Tensor that represents logits\n",
    "    \"\"\"\n",
    "    # TODO: Apply 1, 2, or 3 Convolution and Max Pool layers\n",
    "    #    Play around with different number of outputs, kernel size and stride\n",
    "    # Function Definition from Above:\n",
    "    #    conv2d_maxpool(x_tensor, conv_num_outputs, conv_ksize, conv_strides, pool_ksize, pool_strides)\n",
    "    x_tensor = x\n",
    "    conv_num_output = 384\n",
    "    conv_ksize = (3, 3)\n",
    "    conv_strides = (1, 1)\n",
    "    pool_ksize = (3, 3)\n",
    "    pool_strides = (2, 2)\n",
    "    num_outputs = 10\n",
    "    \n",
    "    conv_layer = conv2d_maxpool(x_tensor,\n",
    "                         64,\n",
    "                         conv_ksize,\n",
    "                         conv_strides,\n",
    "                         pool_ksize,\n",
    "                         pool_strides)\n",
    "    \n",
    "    conv_layer = tf.nn.dropout(conv_layer, keep_prob=keep_prob)\n",
    "\n",
    "    # TODO: Apply a Flatten Layer\n",
    "    # Function Definition from Above:\n",
    "    flattened = flatten(conv_layer)\n",
    "\n",
    "    # TODO: Apply 1, 2, or 3 Fully Connected Layers\n",
    "    #    Play around with different number of outputs\n",
    "    # Function Definition from Above:\n",
    "    #   fully_conn(x_tensor, num_outputs)\n",
    "    fully_connected_layer = fully_conn(flattened, conv_num_output)\n",
    "    fully_connected_layer = tf.nn.dropout(fully_connected_layer, keep_prob=keep_prob)\n",
    "    \n",
    "    fully_connected_layer = fully_conn(fully_connected_layer, 192)\n",
    "    fully_connected_layer = tf.nn.dropout(fully_connected_layer, keep_prob=keep_prob)\n",
    "    \n",
    "    fully_connected_layer = fully_conn(fully_connected_layer, 96)\n",
    "    \n",
    "    # TODO: Apply an Output Layer\n",
    "    #    Set this to the number of classes\n",
    "    # Function Definition from Above:\n",
    "    #   output(x_tensor, num_outputs)\n",
    "    return output(fully_connected_layer, num_outputs)\n",
    "\n",
    "\n",
    "\n",
    "\"\"\"\n",
    "DON'T MODIFY ANYTHING IN THIS CELL THAT IS BELOW THIS LINE\n",
    "\"\"\"\n",
    "\n",
    "##############################\n",
    "## Build the Neural Network ##\n",
    "##############################\n",
    "\n",
    "# Remove previous weights, bias, inputs, etc..\n",
    "tf.reset_default_graph()\n",
    "\n",
    "# Inputs\n",
    "x = neural_net_image_input((32, 32, 3))\n",
    "y = neural_net_label_input(10)\n",
    "keep_prob = neural_net_keep_prob_input()\n",
    "\n",
    "# Model\n",
    "logits = conv_net(x, keep_prob)\n",
    "\n",
    "# Name logits Tensor, so that is can be loaded from disk after training\n",
    "logits = tf.identity(logits, name='logits')\n",
    "\n",
    "# Loss and Optimizer\n",
    "cost = tf.reduce_mean(tf.nn.softmax_cross_entropy_with_logits(logits=logits, labels=y))\n",
    "optimizer = tf.train.AdamOptimizer().minimize(cost)\n",
    "\n",
    "# Accuracy\n",
    "correct_pred = tf.equal(tf.argmax(logits, 1), tf.argmax(y, 1))\n",
    "accuracy = tf.reduce_mean(tf.cast(correct_pred, tf.float32), name='accuracy')\n",
    "\n",
    "tests.test_conv_net(conv_net)"
   ]
  },
  {
   "cell_type": "markdown",
   "metadata": {},
   "source": [
    "## Train the Neural Network\n",
    "### Single Optimization\n",
    "Implement the function `train_neural_network` to do a single optimization.  The optimization should use `optimizer` to optimize in `session` with a `feed_dict` of the following:\n",
    "* `x` for image input\n",
    "* `y` for labels\n",
    "* `keep_prob` for keep probability for dropout\n",
    "\n",
    "This function will be called for each batch, so `tf.global_variables_initializer()` has already been called.\n",
    "\n",
    "Note: Nothing needs to be returned. This function is only optimizing the neural network."
   ]
  },
  {
   "cell_type": "code",
   "execution_count": 95,
   "metadata": {
    "collapsed": false
   },
   "outputs": [
    {
     "name": "stdout",
     "output_type": "stream",
     "text": [
      "Tests Passed\n"
     ]
    }
   ],
   "source": [
    "def train_neural_network(session, optimizer, keep_probability, feature_batch, label_batch):\n",
    "    \"\"\"\n",
    "    Optimize the session on a batch of images and labels\n",
    "    : session: Current TensorFlow session\n",
    "    : optimizer: TensorFlow optimizer function\n",
    "    : keep_probability: keep probability\n",
    "    : feature_batch: Batch of Numpy image data\n",
    "    : label_batch: Batch of Numpy label data\n",
    "    \"\"\"\n",
    "    # TODO: Implement Function\n",
    "    session.run(\n",
    "        optimizer,\n",
    "        feed_dict={x: feature_batch,\n",
    "                   y: label_batch,\n",
    "                   keep_prob: keep_probability})\n",
    "\n",
    "\n",
    "    \n",
    "\n",
    "\n",
    "\n",
    "\"\"\"\n",
    "DON'T MODIFY ANYTHING IN THIS CELL THAT IS BELOW THIS LINE\n",
    "\"\"\"\n",
    "tests.test_train_nn(train_neural_network)"
   ]
  },
  {
   "cell_type": "markdown",
   "metadata": {},
   "source": [
    "### Show Stats\n",
    "Implement the function `print_stats` to print loss and validation accuracy.  Use the global variables `valid_features` and `valid_labels` to calculate validation accuracy.  Use a keep probability of `1.0` to calculate the loss and validation accuracy."
   ]
  },
  {
   "cell_type": "code",
   "execution_count": 96,
   "metadata": {
    "collapsed": false
   },
   "outputs": [],
   "source": [
    "def print_stats(session, feature_batch, label_batch, cost, accuracy):\n",
    "    \"\"\"\n",
    "    Print information about loss and validation accuracy\n",
    "    : session: Current TensorFlow session\n",
    "    : feature_batch: Batch of Numpy image data\n",
    "    : label_batch: Batch of Numpy label data\n",
    "    : cost: TensorFlow cost function\n",
    "    : accuracy: TensorFlow accuracy function\n",
    "    \"\"\"\n",
    "    # Calculate batch loss and accuracy\n",
    "    validation_accuracy = session.run(accuracy,\n",
    "                            feed_dict={\n",
    "                                x: valid_features,\n",
    "                                y: valid_labels,\n",
    "                                keep_prob: 1.0})\n",
    "        \n",
    "    loss = session.run(cost,\n",
    "                       feed_dict={\n",
    "                           x: feature_batch,\n",
    "                           y: label_batch,\n",
    "                           keep_prob: 1.0})\n",
    "    \n",
    "    print('Loss = {} - Validation Accuracy = {:3.2f}%'.format(loss, (validation_accuracy*100)))\n",
    "    "
   ]
  },
  {
   "cell_type": "markdown",
   "metadata": {},
   "source": [
    "### Hyperparameters\n",
    "Tune the following parameters:\n",
    "* Set `epochs` to the number of iterations until the network stops learning or start overfitting\n",
    "* Set `batch_size` to the highest number that your machine has memory for.  Most people set them to common sizes of memory:\n",
    " * 64\n",
    " * 128\n",
    " * 256\n",
    " * ...\n",
    "* Set `keep_probability` to the probability of keeping a node using dropout"
   ]
  },
  {
   "cell_type": "code",
   "execution_count": 97,
   "metadata": {
    "collapsed": true
   },
   "outputs": [],
   "source": [
    "# TODO: Tune Parameters\n",
    "epochs = 20\n",
    "batch_size = 512\n",
    "keep_probability = 0.5"
   ]
  },
  {
   "cell_type": "markdown",
   "metadata": {},
   "source": [
    "### Train on a Single CIFAR-10 Batch\n",
    "Instead of training the neural network on all the CIFAR-10 batches of data, let's use a single batch. This should save time while you iterate on the model to get a better accuracy.  Once the final validation accuracy is 50% or greater, run the model on all the data in the next section."
   ]
  },
  {
   "cell_type": "code",
   "execution_count": 98,
   "metadata": {
    "collapsed": false
   },
   "outputs": [
    {
     "name": "stdout",
     "output_type": "stream",
     "text": [
      "Checking the Training on a Single Batch...\n",
      "Epoch  1, CIFAR-10 Batch 1:  Loss = 2.167686700820923 - Validation Accuracy = 24.58%\n",
      "Epoch  2, CIFAR-10 Batch 1:  Loss = 1.99965238571167 - Validation Accuracy = 27.40%\n",
      "Epoch  3, CIFAR-10 Batch 1:  Loss = 1.883078932762146 - Validation Accuracy = 33.76%\n",
      "Epoch  4, CIFAR-10 Batch 1:  Loss = 1.7882933616638184 - Validation Accuracy = 37.32%\n",
      "Epoch  5, CIFAR-10 Batch 1:  Loss = 1.6490507125854492 - Validation Accuracy = 41.22%\n",
      "Epoch  6, CIFAR-10 Batch 1:  Loss = 1.5464460849761963 - Validation Accuracy = 43.62%\n",
      "Epoch  7, CIFAR-10 Batch 1:  Loss = 1.4417102336883545 - Validation Accuracy = 45.76%\n",
      "Epoch  8, CIFAR-10 Batch 1:  Loss = 1.360655426979065 - Validation Accuracy = 47.48%\n",
      "Epoch  9, CIFAR-10 Batch 1:  Loss = 1.2544047832489014 - Validation Accuracy = 49.00%\n",
      "Epoch 10, CIFAR-10 Batch 1:  Loss = 1.1747996807098389 - Validation Accuracy = 49.54%\n",
      "Epoch 11, CIFAR-10 Batch 1:  Loss = 1.0931980609893799 - Validation Accuracy = 50.98%\n",
      "Epoch 12, CIFAR-10 Batch 1:  Loss = 1.0224974155426025 - Validation Accuracy = 50.82%\n",
      "Epoch 13, CIFAR-10 Batch 1:  Loss = 0.9551804065704346 - Validation Accuracy = 52.28%\n",
      "Epoch 14, CIFAR-10 Batch 1:  Loss = 0.8721515536308289 - Validation Accuracy = 53.48%\n",
      "Epoch 15, CIFAR-10 Batch 1:  Loss = 0.8411615490913391 - Validation Accuracy = 53.80%\n",
      "Epoch 16, CIFAR-10 Batch 1:  Loss = 0.7786684036254883 - Validation Accuracy = 54.28%\n",
      "Epoch 17, CIFAR-10 Batch 1:  Loss = 0.7590524554252625 - Validation Accuracy = 54.16%\n",
      "Epoch 18, CIFAR-10 Batch 1:  Loss = 0.6846553683280945 - Validation Accuracy = 54.62%\n",
      "Epoch 19, CIFAR-10 Batch 1:  Loss = 0.6373679041862488 - Validation Accuracy = 55.30%\n",
      "Epoch 20, CIFAR-10 Batch 1:  Loss = 0.6237165331840515 - Validation Accuracy = 54.34%\n"
     ]
    }
   ],
   "source": [
    "\"\"\"\n",
    "DON'T MODIFY ANYTHING IN THIS CELL\n",
    "\"\"\"\n",
    "print('Checking the Training on a Single Batch...')\n",
    "with tf.Session() as sess:\n",
    "    # Initializing the variables\n",
    "    sess.run(tf.global_variables_initializer())\n",
    "    \n",
    "    # Training cycle\n",
    "    for epoch in range(epochs):\n",
    "        batch_i = 1\n",
    "        for batch_features, batch_labels in helper.load_preprocess_training_batch(batch_i, batch_size):\n",
    "            train_neural_network(sess, optimizer, keep_probability, batch_features, batch_labels)\n",
    "        print('Epoch {:>2}, CIFAR-10 Batch {}:  '.format(epoch + 1, batch_i), end='')\n",
    "        print_stats(sess, batch_features, batch_labels, cost, accuracy)"
   ]
  },
  {
   "cell_type": "code",
   "execution_count": null,
   "metadata": {
    "collapsed": false
   },
   "outputs": [],
   "source": []
  },
  {
   "cell_type": "markdown",
   "metadata": {},
   "source": [
    "### Fully Train the Model\n",
    "Now that you got a good accuracy with a single CIFAR-10 batch, try it with all five batches."
   ]
  },
  {
   "cell_type": "code",
   "execution_count": 99,
   "metadata": {
    "collapsed": false
   },
   "outputs": [
    {
     "name": "stdout",
     "output_type": "stream",
     "text": [
      "Training...\n",
      "Epoch  1, CIFAR-10 Batch 1:  Loss = 2.127891778945923 - Validation Accuracy = 24.12%\n",
      "Epoch  1, CIFAR-10 Batch 2:  Loss = 1.9071667194366455 - Validation Accuracy = 31.20%\n",
      "Epoch  1, CIFAR-10 Batch 3:  Loss = 1.7681742906570435 - Validation Accuracy = 36.38%\n",
      "Epoch  1, CIFAR-10 Batch 4:  Loss = 1.608167290687561 - Validation Accuracy = 39.42%\n",
      "Epoch  1, CIFAR-10 Batch 5:  Loss = 1.6300040483474731 - Validation Accuracy = 42.60%\n",
      "Epoch  2, CIFAR-10 Batch 1:  Loss = 1.5991952419281006 - Validation Accuracy = 44.14%\n",
      "Epoch  2, CIFAR-10 Batch 2:  Loss = 1.4788117408752441 - Validation Accuracy = 47.36%\n",
      "Epoch  2, CIFAR-10 Batch 3:  Loss = 1.412379264831543 - Validation Accuracy = 47.72%\n",
      "Epoch  2, CIFAR-10 Batch 4:  Loss = 1.2808647155761719 - Validation Accuracy = 51.12%\n",
      "Epoch  2, CIFAR-10 Batch 5:  Loss = 1.362709879875183 - Validation Accuracy = 50.32%\n",
      "Epoch  3, CIFAR-10 Batch 1:  Loss = 1.4233020544052124 - Validation Accuracy = 50.72%\n",
      "Epoch  3, CIFAR-10 Batch 2:  Loss = 1.3007481098175049 - Validation Accuracy = 52.72%\n",
      "Epoch  3, CIFAR-10 Batch 3:  Loss = 1.19187331199646 - Validation Accuracy = 52.84%\n",
      "Epoch  3, CIFAR-10 Batch 4:  Loss = 1.140987753868103 - Validation Accuracy = 54.96%\n",
      "Epoch  3, CIFAR-10 Batch 5:  Loss = 1.2014386653900146 - Validation Accuracy = 54.62%\n",
      "Epoch  4, CIFAR-10 Batch 1:  Loss = 1.2763577699661255 - Validation Accuracy = 54.28%\n",
      "Epoch  4, CIFAR-10 Batch 2:  Loss = 1.1584450006484985 - Validation Accuracy = 55.28%\n",
      "Epoch  4, CIFAR-10 Batch 3:  Loss = 1.109620213508606 - Validation Accuracy = 53.96%\n",
      "Epoch  4, CIFAR-10 Batch 4:  Loss = 1.0352039337158203 - Validation Accuracy = 56.98%\n",
      "Epoch  4, CIFAR-10 Batch 5:  Loss = 1.0869693756103516 - Validation Accuracy = 57.26%\n",
      "Epoch  5, CIFAR-10 Batch 1:  Loss = 1.1637191772460938 - Validation Accuracy = 57.36%\n",
      "Epoch  5, CIFAR-10 Batch 2:  Loss = 1.1001120805740356 - Validation Accuracy = 56.16%\n",
      "Epoch  5, CIFAR-10 Batch 3:  Loss = 0.9768771529197693 - Validation Accuracy = 57.96%\n",
      "Epoch  5, CIFAR-10 Batch 4:  Loss = 0.9447482228279114 - Validation Accuracy = 59.14%\n",
      "Epoch  5, CIFAR-10 Batch 5:  Loss = 1.020837664604187 - Validation Accuracy = 59.56%\n",
      "Epoch  6, CIFAR-10 Batch 1:  Loss = 1.0821493864059448 - Validation Accuracy = 59.92%\n",
      "Epoch  6, CIFAR-10 Batch 2:  Loss = 1.012080430984497 - Validation Accuracy = 58.46%\n",
      "Epoch  6, CIFAR-10 Batch 3:  Loss = 0.9217883944511414 - Validation Accuracy = 59.24%\n",
      "Epoch  6, CIFAR-10 Batch 4:  Loss = 0.8797330260276794 - Validation Accuracy = 59.34%\n",
      "Epoch  6, CIFAR-10 Batch 5:  Loss = 0.9609934687614441 - Validation Accuracy = 59.82%\n",
      "Epoch  7, CIFAR-10 Batch 1:  Loss = 1.0024020671844482 - Validation Accuracy = 61.12%\n",
      "Epoch  7, CIFAR-10 Batch 2:  Loss = 0.9171470403671265 - Validation Accuracy = 61.84%\n",
      "Epoch  7, CIFAR-10 Batch 3:  Loss = 0.8421090841293335 - Validation Accuracy = 61.38%\n",
      "Epoch  7, CIFAR-10 Batch 4:  Loss = 0.8462637066841125 - Validation Accuracy = 60.76%\n",
      "Epoch  7, CIFAR-10 Batch 5:  Loss = 0.8589388132095337 - Validation Accuracy = 62.36%\n",
      "Epoch  8, CIFAR-10 Batch 1:  Loss = 0.9433422684669495 - Validation Accuracy = 62.36%\n",
      "Epoch  8, CIFAR-10 Batch 2:  Loss = 0.8687418103218079 - Validation Accuracy = 61.64%\n",
      "Epoch  8, CIFAR-10 Batch 3:  Loss = 0.8005437850952148 - Validation Accuracy = 60.64%\n",
      "Epoch  8, CIFAR-10 Batch 4:  Loss = 0.7420598864555359 - Validation Accuracy = 61.80%\n",
      "Epoch  8, CIFAR-10 Batch 5:  Loss = 0.8588497638702393 - Validation Accuracy = 61.24%\n",
      "Epoch  9, CIFAR-10 Batch 1:  Loss = 0.887974739074707 - Validation Accuracy = 61.70%\n",
      "Epoch  9, CIFAR-10 Batch 2:  Loss = 0.8288044929504395 - Validation Accuracy = 63.26%\n",
      "Epoch  9, CIFAR-10 Batch 3:  Loss = 0.7665325999259949 - Validation Accuracy = 62.08%\n",
      "Epoch  9, CIFAR-10 Batch 4:  Loss = 0.6942883133888245 - Validation Accuracy = 63.68%\n",
      "Epoch  9, CIFAR-10 Batch 5:  Loss = 0.7680892944335938 - Validation Accuracy = 63.24%\n",
      "Epoch 10, CIFAR-10 Batch 1:  Loss = 0.8300828337669373 - Validation Accuracy = 64.00%\n",
      "Epoch 10, CIFAR-10 Batch 2:  Loss = 0.7403082847595215 - Validation Accuracy = 64.02%\n",
      "Epoch 10, CIFAR-10 Batch 3:  Loss = 0.6833151578903198 - Validation Accuracy = 63.36%\n",
      "Epoch 10, CIFAR-10 Batch 4:  Loss = 0.6675287485122681 - Validation Accuracy = 63.20%\n",
      "Epoch 10, CIFAR-10 Batch 5:  Loss = 0.7239928841590881 - Validation Accuracy = 63.76%\n",
      "Epoch 11, CIFAR-10 Batch 1:  Loss = 0.7773666381835938 - Validation Accuracy = 63.86%\n",
      "Epoch 11, CIFAR-10 Batch 2:  Loss = 0.7371135354042053 - Validation Accuracy = 63.30%\n",
      "Epoch 11, CIFAR-10 Batch 3:  Loss = 0.6531457901000977 - Validation Accuracy = 63.20%\n",
      "Epoch 11, CIFAR-10 Batch 4:  Loss = 0.6164947748184204 - Validation Accuracy = 64.34%\n",
      "Epoch 11, CIFAR-10 Batch 5:  Loss = 0.68831467628479 - Validation Accuracy = 64.08%\n",
      "Epoch 12, CIFAR-10 Batch 1:  Loss = 0.7148846983909607 - Validation Accuracy = 64.32%\n",
      "Epoch 12, CIFAR-10 Batch 2:  Loss = 0.6792774200439453 - Validation Accuracy = 64.74%\n",
      "Epoch 12, CIFAR-10 Batch 3:  Loss = 0.6105579733848572 - Validation Accuracy = 64.06%\n",
      "Epoch 12, CIFAR-10 Batch 4:  Loss = 0.5877088308334351 - Validation Accuracy = 64.36%\n",
      "Epoch 12, CIFAR-10 Batch 5:  Loss = 0.6735922694206238 - Validation Accuracy = 63.90%\n",
      "Epoch 13, CIFAR-10 Batch 1:  Loss = 0.7088403105735779 - Validation Accuracy = 64.70%\n",
      "Epoch 13, CIFAR-10 Batch 2:  Loss = 0.6563075184822083 - Validation Accuracy = 65.54%\n",
      "Epoch 13, CIFAR-10 Batch 3:  Loss = 0.590061366558075 - Validation Accuracy = 65.68%\n",
      "Epoch 13, CIFAR-10 Batch 4:  Loss = 0.5779812335968018 - Validation Accuracy = 64.88%\n",
      "Epoch 13, CIFAR-10 Batch 5:  Loss = 0.6093708872795105 - Validation Accuracy = 64.40%\n",
      "Epoch 14, CIFAR-10 Batch 1:  Loss = 0.6694375276565552 - Validation Accuracy = 65.60%\n",
      "Epoch 14, CIFAR-10 Batch 2:  Loss = 0.6016248464584351 - Validation Accuracy = 65.16%\n",
      "Epoch 14, CIFAR-10 Batch 3:  Loss = 0.543875515460968 - Validation Accuracy = 65.28%\n",
      "Epoch 14, CIFAR-10 Batch 4:  Loss = 0.5470166206359863 - Validation Accuracy = 64.78%\n",
      "Epoch 14, CIFAR-10 Batch 5:  Loss = 0.5741689801216125 - Validation Accuracy = 65.08%\n",
      "Epoch 15, CIFAR-10 Batch 1:  Loss = 0.6175839900970459 - Validation Accuracy = 65.80%\n",
      "Epoch 15, CIFAR-10 Batch 2:  Loss = 0.5661184191703796 - Validation Accuracy = 65.48%\n",
      "Epoch 15, CIFAR-10 Batch 3:  Loss = 0.5548474192619324 - Validation Accuracy = 64.92%\n",
      "Epoch 15, CIFAR-10 Batch 4:  Loss = 0.5549024343490601 - Validation Accuracy = 63.44%\n",
      "Epoch 15, CIFAR-10 Batch 5:  Loss = 0.563478410243988 - Validation Accuracy = 65.72%\n",
      "Epoch 16, CIFAR-10 Batch 1:  Loss = 0.6102290749549866 - Validation Accuracy = 65.82%\n",
      "Epoch 16, CIFAR-10 Batch 2:  Loss = 0.578861653804779 - Validation Accuracy = 66.02%\n",
      "Epoch 16, CIFAR-10 Batch 3:  Loss = 0.5142810940742493 - Validation Accuracy = 65.46%\n",
      "Epoch 16, CIFAR-10 Batch 4:  Loss = 0.4769721031188965 - Validation Accuracy = 65.76%\n",
      "Epoch 16, CIFAR-10 Batch 5:  Loss = 0.5205656290054321 - Validation Accuracy = 65.96%\n",
      "Epoch 17, CIFAR-10 Batch 1:  Loss = 0.5770238041877747 - Validation Accuracy = 66.18%\n",
      "Epoch 17, CIFAR-10 Batch 2:  Loss = 0.5340765714645386 - Validation Accuracy = 66.60%\n",
      "Epoch 17, CIFAR-10 Batch 3:  Loss = 0.4650426208972931 - Validation Accuracy = 66.40%\n",
      "Epoch 17, CIFAR-10 Batch 4:  Loss = 0.4473308324813843 - Validation Accuracy = 66.16%\n",
      "Epoch 17, CIFAR-10 Batch 5:  Loss = 0.4615006446838379 - Validation Accuracy = 66.42%\n",
      "Epoch 18, CIFAR-10 Batch 1:  Loss = 0.5381906628608704 - Validation Accuracy = 66.92%\n",
      "Epoch 18, CIFAR-10 Batch 2:  Loss = 0.5297746658325195 - Validation Accuracy = 65.44%\n",
      "Epoch 18, CIFAR-10 Batch 3:  Loss = 0.44566959142684937 - Validation Accuracy = 67.42%\n",
      "Epoch 18, CIFAR-10 Batch 4:  Loss = 0.4241850972175598 - Validation Accuracy = 66.66%\n",
      "Epoch 18, CIFAR-10 Batch 5:  Loss = 0.4725949168205261 - Validation Accuracy = 66.76%\n",
      "Epoch 19, CIFAR-10 Batch 1:  Loss = 0.5165605545043945 - Validation Accuracy = 66.66%\n",
      "Epoch 19, CIFAR-10 Batch 2:  Loss = 0.4791136682033539 - Validation Accuracy = 67.20%\n",
      "Epoch 19, CIFAR-10 Batch 3:  Loss = 0.43276703357696533 - Validation Accuracy = 66.62%\n",
      "Epoch 19, CIFAR-10 Batch 4:  Loss = 0.4057711064815521 - Validation Accuracy = 66.96%\n",
      "Epoch 19, CIFAR-10 Batch 5:  Loss = 0.4443452060222626 - Validation Accuracy = 66.28%\n",
      "Epoch 20, CIFAR-10 Batch 1:  Loss = 0.45551273226737976 - Validation Accuracy = 67.36%\n",
      "Epoch 20, CIFAR-10 Batch 2:  Loss = 0.4660770893096924 - Validation Accuracy = 66.98%\n",
      "Epoch 20, CIFAR-10 Batch 3:  Loss = 0.4117034077644348 - Validation Accuracy = 66.88%\n",
      "Epoch 20, CIFAR-10 Batch 4:  Loss = 0.3586937189102173 - Validation Accuracy = 67.16%\n",
      "Epoch 20, CIFAR-10 Batch 5:  Loss = 0.4025743007659912 - Validation Accuracy = 67.66%\n"
     ]
    }
   ],
   "source": [
    "\"\"\"\n",
    "DON'T MODIFY ANYTHING IN THIS CELL\n",
    "\"\"\"\n",
    "save_model_path = './image_classification'\n",
    "\n",
    "print('Training...')\n",
    "with tf.Session() as sess:\n",
    "    # Initializing the variables\n",
    "    sess.run(tf.global_variables_initializer())\n",
    "    \n",
    "    # Training cycle\n",
    "    for epoch in range(epochs):\n",
    "        # Loop over all batches\n",
    "        n_batches = 5\n",
    "        for batch_i in range(1, n_batches + 1):\n",
    "            for batch_features, batch_labels in helper.load_preprocess_training_batch(batch_i, batch_size):\n",
    "                train_neural_network(sess, optimizer, keep_probability, batch_features, batch_labels)\n",
    "            print('Epoch {:>2}, CIFAR-10 Batch {}:  '.format(epoch + 1, batch_i), end='')\n",
    "            print_stats(sess, batch_features, batch_labels, cost, accuracy)\n",
    "            \n",
    "    # Save Model\n",
    "    saver = tf.train.Saver()\n",
    "    save_path = saver.save(sess, save_model_path)"
   ]
  },
  {
   "cell_type": "markdown",
   "metadata": {},
   "source": [
    "# Checkpoint\n",
    "The model has been saved to disk.\n",
    "## Test Model\n",
    "Test your model against the test dataset.  This will be your final accuracy. You should have an accuracy greater than 50%. If you don't, keep tweaking the model architecture and parameters."
   ]
  },
  {
   "cell_type": "code",
   "execution_count": 100,
   "metadata": {
    "collapsed": false
   },
   "outputs": [
    {
     "name": "stdout",
     "output_type": "stream",
     "text": [
      "Testing Accuracy: 0.6824103862047195\n",
      "\n"
     ]
    },
    {
     "data": {
      "image/png": "[encoded data removed]",
      "text/plain": [
       "<matplotlib.figure.Figure at 0x103d36978>"
      ]
     },
     "metadata": {
      "image/png": {
       "height": 319,
       "width": 355
      }
     },
     "output_type": "display_data"
    }
   ],
   "source": [
    "\"\"\"\n",
    "DON'T MODIFY ANYTHING IN THIS CELL\n",
    "\"\"\"\n",
    "%matplotlib inline\n",
    "%config InlineBackend.figure_format = 'retina'\n",
    "\n",
    "import tensorflow as tf\n",
    "import pickle\n",
    "import helper\n",
    "import random\n",
    "\n",
    "# Set batch size if not already set\n",
    "try:\n",
    "    if batch_size:\n",
    "        pass\n",
    "except NameError:\n",
    "    batch_size = 64\n",
    "\n",
    "save_model_path = './image_classification'\n",
    "n_samples = 4\n",
    "top_n_predictions = 3\n",
    "\n",
    "def test_model():\n",
    "    \"\"\"\n",
    "    Test the saved model against the test dataset\n",
    "    \"\"\"\n",
    "\n",
    "    test_features, test_labels = pickle.load(open('preprocess_training.p', mode='rb'))\n",
    "    loaded_graph = tf.Graph()\n",
    "\n",
    "    with tf.Session(graph=loaded_graph) as sess:\n",
    "        # Load model\n",
    "        loader = tf.train.import_meta_graph(save_model_path + '.meta')\n",
    "        loader.restore(sess, save_model_path)\n",
    "\n",
    "        # Get Tensors from loaded model\n",
    "        loaded_x = loaded_graph.get_tensor_by_name('x:0')\n",
    "        loaded_y = loaded_graph.get_tensor_by_name('y:0')\n",
    "        loaded_keep_prob = loaded_graph.get_tensor_by_name('keep_prob:0')\n",
    "        loaded_logits = loaded_graph.get_tensor_by_name('logits:0')\n",
    "        loaded_acc = loaded_graph.get_tensor_by_name('accuracy:0')\n",
    "        \n",
    "        # Get accuracy in batches for memory limitations\n",
    "        test_batch_acc_total = 0\n",
    "        test_batch_count = 0\n",
    "        \n",
    "        for train_feature_batch, train_label_batch in helper.batch_features_labels(test_features, test_labels, batch_size):\n",
    "            test_batch_acc_total += sess.run(\n",
    "                loaded_acc,\n",
    "                feed_dict={loaded_x: train_feature_batch, loaded_y: train_label_batch, loaded_keep_prob: 1.0})\n",
    "            test_batch_count += 1\n",
    "\n",
    "        print('Testing Accuracy: {}\\n'.format(test_batch_acc_total/test_batch_count))\n",
    "\n",
    "        # Print Random Samples\n",
    "        random_test_features, random_test_labels = tuple(zip(*random.sample(list(zip(test_features, test_labels)), n_samples)))\n",
    "        random_test_predictions = sess.run(\n",
    "            tf.nn.top_k(tf.nn.softmax(loaded_logits), top_n_predictions),\n",
    "            feed_dict={loaded_x: random_test_features, loaded_y: random_test_labels, loaded_keep_prob: 1.0})\n",
    "        helper.display_image_predictions(random_test_features, random_test_labels, random_test_predictions)\n",
    "\n",
    "\n",
    "test_model()"
   ]
  },
  {
   "cell_type": "markdown",
   "metadata": {},
   "source": [
    "## Why 50-70% Accuracy?\n",
    "You might be wondering why you can't get an accuracy any higher. First things first, 50% isn't bad for a simple CNN.  Pure guessing would get you 10% accuracy. However, you might notice people are getting scores [well above 70%](http://rodrigob.github.io/are_we_there_yet/build/classification_datasets_results.html#43494641522d3130).  That's because we haven't taught you all there is to know about neural networks. We still need to cover a few more techniques.\n",
    "## Submitting This Project\n",
    "When submitting this project, make sure to run all the cells before saving the notebook.  Save the notebook file as \"dlnd_image_classification.ipynb\" and save it as a HTML file under \"File\" -> \"Download as\".  Include the \"helper.py\" and \"problem_unittests.py\" files in your submission."
   ]
  }
 ],
 "metadata": {
  "anaconda-cloud": {},
  "kernelspec": {
   "display_name": "Python 3",
   "language": "python",
   "name": "python3"
  },
  "language_info": {
   "codemirror_mode": {
    "name": "ipython",
    "version": 3
   },
   "file_extension": ".py",
   "mimetype": "text/x-python",
   "name": "python",
   "nbconvert_exporter": "python",
   "pygments_lexer": "ipython3",
   "version": "3.5.2"
  }
 },
 "nbformat": 4,
 "nbformat_minor": 0
}
